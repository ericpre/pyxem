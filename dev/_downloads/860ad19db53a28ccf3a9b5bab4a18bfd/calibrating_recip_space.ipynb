{
  "cells": [
    {
      "cell_type": "markdown",
      "metadata": {},
      "source": [
        "\n# Calibrating Scales\n\nThis example demonstrates how to calibrate the scales in both reciprocal\nand real-space.  Ideally this should be done using a calibration standard\nwith a known lattice spacing.\n\nThere are many ways to calibrate the microscope so raise an issue if you\nhave a specific method you would like to see implemented or if you have\nany questions.\n"
      ]
    },
    {
      "cell_type": "code",
      "execution_count": null,
      "metadata": {
        "collapsed": false
      },
      "outputs": [],
      "source": [
        "from diffsims.generators.simulation_generator import SimulationGenerator\nimport pyxem as pxm\nimport hyperspy.api as hs\nimport numpy as np\nfrom diffsims.utils.sim_utils import get_electron_wavelength\nfrom scipy.optimize import curve_fit\nimport matplotlib.pyplot as plt\n\n\n# Load the data and the cif file\nau_dpeg = pxm.data.au_grating_20cm(\n    allow_download=True, signal_type=\"electron_diffraction\"\n)\ngold_phase = pxm.data.au_phase(allow_download=True)  # Orix.CrystalMap.Phase object"
      ]
    },
    {
      "cell_type": "markdown",
      "metadata": {},
      "source": [
        "## Create a Simulation Generator\nUse the SimulationGenerator to create a simulated diffraction pattern\nfrom the gold phase. Note that the acceleration voltage is irrelevant\n\n"
      ]
    },
    {
      "cell_type": "code",
      "execution_count": null,
      "metadata": {
        "collapsed": false
      },
      "outputs": [],
      "source": [
        "sim_gen = SimulationGenerator()\nsim1d = sim_gen.calculate_diffraction1d(gold_phase, reciprocal_radius=1.2)"
      ]
    },
    {
      "cell_type": "markdown",
      "metadata": {},
      "source": [
        "## Azimuthal Integration and Calibration\nThe polar unwrapping for the 2D image will give a 1D diffraction pattern\nthat can be used for calibration.  The calibration is done by comparing\nthe positions of the peaks in the simulated and experimental diffraction\npatterns. Fitting with a :class:`hyperspy.model.Model1D` can be used to find the\nscale or the camera length.\n\n"
      ]
    },
    {
      "cell_type": "code",
      "execution_count": null,
      "metadata": {
        "collapsed": false
      },
      "outputs": [],
      "source": [
        "au_dpeg.calibration.center = None  # Set the center\naz1d = au_dpeg.get_azimuthal_integral1d(npt=200, radial_range=(20, 128))  # in pixels\ndiffraction_model = az1d.model_simulation1d(sim1d, fit=True, center_lim=0.03)\n\ntheta_scale = az1d.model2theta_scale(\n    simulation=sim1d, model=diffraction_model, beam_energy=200\n)\n\ncamera_length = az1d.model2camera_length(\n    simulation=sim1d,\n    model=diffraction_model,\n    beam_energy=200,\n    physical_pixel_size=5.5e-5,\n)\n\nprint(\"Theta Scale: \", theta_scale, \" Rad\")\nprint(\n    \"Camera Length: \", camera_length * 100, \" cm\"\n)  # Camera length of 21.287cm (vs 20cm from the microscope)\ndiffraction_model.plot(plot_components=True)"
      ]
    },
    {
      "cell_type": "markdown",
      "metadata": {},
      "source": [
        "## Aside: Showing how the Camera Length and scale is caluclated:\n\n"
      ]
    },
    {
      "cell_type": "code",
      "execution_count": null,
      "metadata": {
        "collapsed": false
      },
      "outputs": [],
      "source": [
        "centers = np.sort(\n    [\n        c.centre.value\n        for c in diffraction_model\n        if isinstance(c, hs.model.components1D.Gaussian)\n    ]\n)\nwavelength = get_electron_wavelength(200)\nangles = np.arctan2(\n    np.sort(sim1d.reciprocal_spacing), 1 / wavelength\n)  # both in inverse angstroms.\n\n\ndef f(x, m):\n    return x * m\n\n\nm, pcov = curve_fit(f, centers, angles)\nscale = m[0]\n\nfig, axs = plt.subplots(1)\naxs.scatter(centers, angles * 1000)\naxs.plot(np.sort(centers), np.sort(centers) * scale * 1000)\naxs.set_ylabel(\"Angle, mrad\")\naxs.set_xlabel(\"Detector Pixels\")\naxs.annotate(f\"Slope: {scale*1000:.2} mrad/pixel\", (0.1, 0.6), xycoords=\"axes fraction\")\naxs.annotate(\n    f\"Camera Length: {5.5E-5/ np.tan(scale)*100:.4}cm\",\n    (0.05, 0.5),\n    xycoords=\"axes fraction\",\n)"
      ]
    },
    {
      "cell_type": "markdown",
      "metadata": {},
      "source": [
        "## Applying a Camera Length\nThe (calibrated) camera length can be applied to the data to calibrate the scale\nmore accurately than a simple single point calibration.  Let's apply the camera\nlength to the data and plot the result.\n\n"
      ]
    },
    {
      "cell_type": "code",
      "execution_count": null,
      "metadata": {
        "collapsed": false
      },
      "outputs": [],
      "source": [
        "au_dpeg.calibration.detector(\n    pixel_size=5.5e-5, detector_distance=camera_length, beam_energy=200\n)\nprint(au_dpeg.axes_manager)  # non uniform axes\nau_dpeg.plot(vmax=\"99th\")  # non uniform axes"
      ]
    },
    {
      "cell_type": "markdown",
      "metadata": {},
      "source": [
        "## Plotting Corrected Azimuthal Integration\nWhen you get the Azimuthal Integration now that things are calibrated it automatically\naccounts for the ewald sphere now and uses the non uniform axes.\n\n"
      ]
    },
    {
      "cell_type": "code",
      "execution_count": null,
      "metadata": {
        "collapsed": false
      },
      "outputs": [],
      "source": [
        "calibrated_azim = au_dpeg.get_azimuthal_integral1d(npt=200, radial_range=(2, 15))\ncalibrated_azim.plot()\nx = np.array(sim1d.reciprocal_spacing) * 10\ny = [\n    0.5,\n] * len(x)\ny0 = [\n    0,\n] * len(x)\n\nhkl = [str(h) for h in sim1d.hkl]\n\noffsets = np.vstack((x, y)).T\nt = hs.plot.markers.Texts(\n    offsets,\n    texts=hkl,\n    offset_transform=\"relative\",\n    horizontalalignment=\"left\",\n    verticalalignment=\"bottom\",\n    rotation=np.pi / 2,\n    color=\"k\",\n)\n\ncalibrated_azim.add_marker(t)\nlines = [[[l, 0], [l, 1]] for l in x]\nv = hs.plot.markers.Lines(lines, transform=\"relative\", linestyle=\"--\")\ncalibrated_azim.add_marker(v)"
      ]
    }
  ],
  "metadata": {
    "kernelspec": {
      "display_name": "Python 3",
      "language": "python",
      "name": "python3"
    },
    "language_info": {
      "codemirror_mode": {
        "name": "ipython",
        "version": 3
      },
      "file_extension": ".py",
      "mimetype": "text/x-python",
      "name": "python",
      "nbconvert_exporter": "python",
      "pygments_lexer": "ipython3",
      "version": "3.12.11"
    }
  },
  "nbformat": 4,
  "nbformat_minor": 0
}