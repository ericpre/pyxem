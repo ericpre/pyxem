{
  "cells": [
    {
      "cell_type": "markdown",
      "metadata": {},
      "source": [
        "\n# Creating a Segmented Detector\n\nIn this example we will show how to create virtual images for a segmented-like detector.\n\nThis is helpful for basic mapping of orientation etc. in a diffraction pattern and can be useful\nfor a first look at the data.\n"
      ]
    },
    {
      "cell_type": "code",
      "execution_count": null,
      "metadata": {
        "collapsed": false
      },
      "outputs": [],
      "source": [
        "import pyxem as pxm\nfrom pyxem.utils._azimuthal_integrations import _get_control_points\nimport numpy as np\nimport hyperspy.api as hs\n\n\ndp = pxm.data.tilt_boundary_data()\ndp.calibration.center = None  # Center the diffraction patterns\ndp.calibration.scale = 0.1  # Scale the diffraction patterns in reciprocal space"
      ]
    },
    {
      "cell_type": "markdown",
      "metadata": {},
      "source": [
        "Visualizing the virtual detector\n\n"
      ]
    },
    {
      "cell_type": "code",
      "execution_count": null,
      "metadata": {
        "collapsed": false
      },
      "outputs": [],
      "source": [
        "cp = _get_control_points(\n    1,\n    npt_azim=8,\n    radial_range=(1, 5),\n    azimuthal_range=(-np.pi, np.pi),\n    affine=dp.calibration.affine,\n)[:, :, ::-1]\npoly = hs.plot.markers.Polygons(verts=cp, edgecolor=\"w\", facecolor=\"none\")\ndp.plot()\ndp.add_marker(poly)\npos = np.mean(cp, axis=1)\ntexts = np.arange(len(pos)).astype(str)\ntexts = hs.plot.markers.Texts(offsets=pos, texts=texts, color=\"w\")\ndp.add_marker(texts)"
      ]
    },
    {
      "cell_type": "code",
      "execution_count": null,
      "metadata": {
        "collapsed": false
      },
      "outputs": [],
      "source": [
        "az = dp.get_azimuthal_integral2d(npt=1, npt_azim=8, radial_range=(2, 5))\n\naz.T.plot()"
      ]
    },
    {
      "cell_type": "markdown",
      "metadata": {},
      "source": [
        "sphinx_gallery_thumbnail_number = 2\n%%\n\n"
      ]
    }
  ],
  "metadata": {
    "kernelspec": {
      "display_name": "Python 3",
      "language": "python",
      "name": "python3"
    },
    "language_info": {
      "codemirror_mode": {
        "name": "ipython",
        "version": 3
      },
      "file_extension": ".py",
      "mimetype": "text/x-python",
      "name": "python",
      "nbconvert_exporter": "python",
      "pygments_lexer": "ipython3",
      "version": "3.12.11"
    }
  },
  "nbformat": 4,
  "nbformat_minor": 0
}