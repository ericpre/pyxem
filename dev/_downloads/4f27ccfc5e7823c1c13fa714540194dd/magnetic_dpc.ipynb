{
  "cells": [
    {
      "cell_type": "markdown",
      "metadata": {},
      "source": [
        "\n# Magnetic DPC\n\nThis example shows a basic workflow for doing magnetic DPC on a simple simulated test\ndataset. The dataset consists of alternating stripes of switching magnetic fields resulting\nin reversals of the direction of the magnetic field.\n\nThis is a generalization of some of the real datasets which are more completely analyzed in\nthe longer Demo Notebooks.\n"
      ]
    },
    {
      "cell_type": "code",
      "execution_count": null,
      "metadata": {
        "collapsed": false
      },
      "outputs": [],
      "source": [
        "import pyxem as pxm\n\ns = pxm.data.simulated_stripes()\n\ns_beam_pos = s.get_direct_beam_position(\n    method=\"center_of_mass\", half_square_width=20\n)  # Just the center of the DP"
      ]
    },
    {
      "cell_type": "markdown",
      "metadata": {},
      "source": [
        "## Visualizing the Shifts\nThe shifts can be visualized using the :meth:`plot` method which shows both the\nx and y shifts in a single plot.\n\n"
      ]
    },
    {
      "cell_type": "code",
      "execution_count": null,
      "metadata": {
        "collapsed": false
      },
      "outputs": [],
      "source": [
        "s_beam_pos.plot()"
      ]
    },
    {
      "cell_type": "markdown",
      "metadata": {},
      "source": [
        "## Visualizing the Shifts as color signal\nTo plot the shifts in one signal, with the color showing the magnitude and direction.\n\n"
      ]
    },
    {
      "cell_type": "code",
      "execution_count": null,
      "metadata": {
        "collapsed": false
      },
      "outputs": [],
      "source": [
        "s_magnitude_phase = s_beam_pos.get_magnitude_phase_signal()\ns_magnitude_phase.plot()"
      ]
    },
    {
      "cell_type": "markdown",
      "metadata": {},
      "source": [
        "## Plotting Magnitude and Direction\nSince each probe position is a vector, we can plot the magnitude and phase (direction).\n\n"
      ]
    },
    {
      "cell_type": "code",
      "execution_count": null,
      "metadata": {
        "collapsed": false
      },
      "outputs": [],
      "source": [
        "s_magnitude = s_beam_pos.get_magnitude_signal()\ns_magnitude.plot()\n\ns_phase = s_beam_pos.get_phase_signal()\ns_phase.plot()"
      ]
    },
    {
      "cell_type": "markdown",
      "metadata": {},
      "source": [
        "## Plotting the bivariate histogram\nThe shifts vectors can also be visualized as a histogram\n\n"
      ]
    },
    {
      "cell_type": "code",
      "execution_count": null,
      "metadata": {
        "collapsed": false
      },
      "outputs": [],
      "source": [
        "s_hist = s_beam_pos.get_bivariate_histogram()\ns_hist.plot()"
      ]
    },
    {
      "cell_type": "markdown",
      "metadata": {},
      "source": [
        "## Plotting with matplotlib\nPyxem also provides a convenient way to plot the magnitude and phase of the beam shifts\nusing matplotlib. This is useful for creating publication-ready figures.\n\n"
      ]
    },
    {
      "cell_type": "code",
      "execution_count": null,
      "metadata": {
        "collapsed": false
      },
      "outputs": [],
      "source": [
        "import matplotlib.pyplot as plt\nfrom pyxem.utils.plotting import plot_beam_shift_color\n\nfig, axs = plt.subplots(1, 1)\ninset = axs.inset_axes([0.06, 0.57, 0.2, 0.2])\nplot_beam_shift_color(\n    s_beam_pos,\n    phase_rotation=45,\n    autolim=True,\n    autolim_sigma=3,\n    ax_indicator=inset,\n    ax=axs,\n)\n\nfig, axs = plt.subplots(1, 1)\ninset = axs.inset_axes([0.06, 0.57, 0.2, 0.2])\nplot_beam_shift_color(\n    s_beam_pos,\n    phase_rotation=45,\n    autolim=True,\n    autolim_sigma=3,\n    ax_indicator=inset,\n    only_phase=True,\n    ax=axs,\n)\n\n# sphinx_gallery_thumbnail_number = 3"
      ]
    }
  ],
  "metadata": {
    "kernelspec": {
      "display_name": "Python 3",
      "language": "python",
      "name": "python3"
    },
    "language_info": {
      "codemirror_mode": {
        "name": "ipython",
        "version": 3
      },
      "file_extension": ".py",
      "mimetype": "text/x-python",
      "name": "python",
      "nbconvert_exporter": "python",
      "pygments_lexer": "ipython3",
      "version": "3.12.11"
    }
  },
  "nbformat": 4,
  "nbformat_minor": 0
}