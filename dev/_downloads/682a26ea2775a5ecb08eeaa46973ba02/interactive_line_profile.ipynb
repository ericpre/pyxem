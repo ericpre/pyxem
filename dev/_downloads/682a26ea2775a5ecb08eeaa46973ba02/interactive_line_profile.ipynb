{
  "cells": [
    {
      "cell_type": "markdown",
      "metadata": {},
      "source": [
        "\n# Creating an Interactive Line Profile\n\nMany times we want to measure the distance between two disks in a diffraction pattern.  A lot of times\nprogramming this is a bit of a pain.  With HyperSpy's interactive tools we can fairly easily create\na line profile that we can interactively adjust to measure the distance between two disks in a diffraction pattern.\n"
      ]
    },
    {
      "cell_type": "code",
      "execution_count": null,
      "metadata": {
        "collapsed": false
      },
      "outputs": [],
      "source": [
        "from pyxem.data import simulated_strain\nimport hyperspy.api as hs\n\nstrained_signal = simulated_strain(\n    navigation_shape=(32, 32),\n    signal_shape=(512, 512),\n    disk_radius=20,\n    num_electrons=1e5,\n    strain_matrix=None,\n    lazy=True,\n)\nstrained_signal.plot()\nprofile = strained_signal.add_interactive_line_profile(linewidth=1)"
      ]
    },
    {
      "cell_type": "markdown",
      "metadata": {},
      "source": [
        "That's it!  For completeness, here is the code to create the interactive line profile.\nYou might want to use or modify this code to create your own interactive line profiles.\nThe interactive functionality is built into HyperSpy is pretty powerful but sometimes\ncan be confusing and a little tricky to get right.\n\n"
      ]
    },
    {
      "cell_type": "code",
      "execution_count": null,
      "metadata": {
        "collapsed": false
      },
      "outputs": [],
      "source": [
        "line_roi = hs.roi.Line2DROI(x1=-1, y1=-1, x2=1, y2=1, linewidth=1)\n\nif (\n    line_roi.update\n    not in strained_signal.axes_manager.events.any_axis_changed.connected\n):\n    strained_signal.axes_manager.events.any_axis_changed.connect(line_roi.update, [])\n\n\ndef get_current_profile():\n    return line_roi(strained_signal.get_current_signal())\n\n\nprofile = hs.interactive(\n    get_current_profile,\n    event=[\n        line_roi.events.changed,\n        strained_signal.axes_manager.events.indices_changed,\n    ],\n)\nline_roi.add_widget(strained_signal, axes=(2, 3))\nhs.plot.plot_spectra(\n    [\n        profile,\n    ]\n)"
      ]
    },
    {
      "cell_type": "markdown",
      "metadata": {},
      "source": [
        "sphinx_gallery_thumbnail_number = 3\n\n"
      ]
    }
  ],
  "metadata": {
    "kernelspec": {
      "display_name": "Python 3",
      "language": "python",
      "name": "python3"
    },
    "language_info": {
      "codemirror_mode": {
        "name": "ipython",
        "version": 3
      },
      "file_extension": ".py",
      "mimetype": "text/x-python",
      "name": "python",
      "nbconvert_exporter": "python",
      "pygments_lexer": "ipython3",
      "version": "3.12.11"
    }
  },
  "nbformat": 4,
  "nbformat_minor": 0
}