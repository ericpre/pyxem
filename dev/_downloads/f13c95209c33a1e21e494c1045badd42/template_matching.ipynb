{
  "cells": [
    {
      "cell_type": "markdown",
      "metadata": {},
      "source": [
        "\n# Template Matching\n\nThis example shows how the template matching is done in pyxem to find peaks in a diffraction pattern.\n"
      ]
    },
    {
      "cell_type": "code",
      "execution_count": null,
      "metadata": {
        "collapsed": false
      },
      "outputs": [],
      "source": [
        "import numpy as np\nimport hyperspy.api as hs\nimport matplotlib.pyplot as plt\nfrom skimage.morphology import disk\n\n\nimport pyxem as pxm\nimport pyxem.data.dummy_data.make_diffraction_test_data as mdtd\n\ns = pxm.data.tilt_boundary_data()"
      ]
    },
    {
      "cell_type": "markdown",
      "metadata": {},
      "source": [
        "# How Template Matching Works\n\nPyxem uses a window-normalized cross-correlation to find the peaks.  This is much better for finding\nboth strongly and weakly scattering peaks but sometimes if the window is too small, too large, or the\nwrong shape, the behavior can be unexpected.\n\n"
      ]
    },
    {
      "cell_type": "code",
      "execution_count": null,
      "metadata": {
        "collapsed": false
      },
      "outputs": [],
      "source": [
        "template = disk(5)\npadded_template = np.pad(template, 3)  # padding a template increased the window size\npadded_template_large = np.pad(\n    template, 20\n)  # padding a template increased the window size\n\ntemplate_normal = s.template_match(template)\ntemplate_padded = s.template_match(padded_template)\ntemplate_padded_large = s.template_match(padded_template_large)\n\nind = (5, 5)\nhs.plot.plot_images(\n    [\n        s.inav[ind],\n        template_normal.inav[ind],\n        template_padded.inav[ind],\n        template_padded_large.inav[ind],\n    ],\n    label=[\"Signal\", \"Normal Window\", \"Large Window\", \"Very Large Window\"],\n    tight_layout=True,\n    per_row=2,\n)"
      ]
    },
    {
      "cell_type": "markdown",
      "metadata": {},
      "source": [
        "In the very large window case you can see that in the middle the strong zero beam is __included__ in the window\nand the intensity for those pixels is suppressed in the template matching. We also see this occurs in a\nsquare pattern because even though our template is a disk, the window is a square!\n\n# Template Matching with an Amorphous Halo\n\nSometimes the template matching can be thrown off by an amorphous halo around the diffraction spots.  This\ncan be seen in the following example.  In this case we can use a dilated (circular) window to reduce the\neffect of the imposed square window. This can be seen in the intensity of the diffraction vectors at\n+y,+x and -y,-x.\n\n"
      ]
    },
    {
      "cell_type": "code",
      "execution_count": null,
      "metadata": {
        "collapsed": false
      },
      "outputs": [],
      "source": [
        "data = mdtd.generate_4d_data(\n    image_size_x=s.axes_manager.signal_axes[0].size,\n    image_size_y=s.axes_manager.signal_axes[1].size,\n    disk_x=s.axes_manager.signal_axes[0].size // 2,\n    disk_y=s.axes_manager.signal_axes[0].size // 2,\n    ring_r=45 / 128 * s.axes_manager.signal_axes[0].size // 2,\n    ring_x=s.axes_manager.signal_axes[0].size // 2,\n    ring_y=s.axes_manager.signal_axes[0].size // 2,\n    disk_I=10,\n    ring_lw=8,\n    ring_I=2,\n)\namorphous_data = data + s\n\ntemplate_normal = amorphous_data.template_match_disk(disk_r=6, subtract_min=False)\ntemplate_circular = amorphous_data.template_match_disk(\n    disk_r=6, circular_background=True, template_dilation=5, subtract_min=False\n)\nmask = template_normal.get_direct_beam_mask(35)\n\nmask2 = ~template_normal.get_direct_beam_mask(55)\n\ntemplate_normal.data[:, :, mask] = 0\ntemplate_circular.data[:, :, mask] = 0\n\ntemplate_normal.data[:, :, mask2] = 0\ntemplate_circular.data[:, :, mask2] = 0\n\nf = plt.figure(figsize=(15, 5))\nind = (5, 5)\nhs.plot.plot_images(\n    [amorphous_data.inav[ind], template_normal.inav[ind], template_circular.inav[ind]],\n    label=[\"Signal\", \"Square Window\", \"Circular Window\"],\n    tight_layout=True,\n    per_row=3,\n    vmin=[0, 0.7, 0.7],\n    fig=f,\n)"
      ]
    }
  ],
  "metadata": {
    "kernelspec": {
      "display_name": "Python 3",
      "language": "python",
      "name": "python3"
    },
    "language_info": {
      "codemirror_mode": {
        "name": "ipython",
        "version": 3
      },
      "file_extension": ".py",
      "mimetype": "text/x-python",
      "name": "python",
      "nbconvert_exporter": "python",
      "pygments_lexer": "ipython3",
      "version": "3.12.11"
    }
  },
  "nbformat": 4,
  "nbformat_minor": 0
}