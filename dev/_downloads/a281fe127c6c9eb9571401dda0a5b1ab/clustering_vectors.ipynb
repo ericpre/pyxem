{
  "cells": [
    {
      "cell_type": "markdown",
      "metadata": {},
      "source": [
        "\n# Clustering Vectors\n\nThis can be used to segment a 4-D STEM dataset into different clusters based on the diffraction\npattern at each real space position.\n"
      ]
    },
    {
      "cell_type": "code",
      "execution_count": null,
      "metadata": {
        "collapsed": false
      },
      "outputs": [],
      "source": [
        "import pyxem as pxm\nfrom scipy.ndimage import gaussian_filter\nimport matplotlib.pyplot as plt\nfrom sklearn.cluster import DBSCAN\n\n# Getting the vectors for some dataset\n# s = pxm.data.mgo_nanocrystals(allow_download=True)\ns = pxm.data.simulated_overlap()\ns.filter(gaussian_filter, sigma=(0.5, 0.5, 0, 0), inplace=True)  # only in real space\ns.template_match_disk(disk_r=5, subtract_min=False, inplace=True)\nvectors = s.get_diffraction_vectors(threshold_abs=0.5, min_distance=3)\n\n# Now we can convert the vectors into a 2D array of rows/columns\nflat_vectors = (\n    vectors.flatten_diffraction_vectors()\n)  # flatten the vectors into a 2D array\nscan = DBSCAN(eps=1.0, min_samples=2)"
      ]
    },
    {
      "cell_type": "markdown",
      "metadata": {},
      "source": [
        "## Clustering the Vectors\nIt is very important that we first normalize the real and reciprocal space distances\nThe column scale factors map the real space and reciprocal space distances to the same scale\nHere this means that the clustering algorithm operates on 4 nm in real space and .1 nm^-1 in\nreciprocal space based on the units for the vectors.\n\n"
      ]
    },
    {
      "cell_type": "code",
      "execution_count": null,
      "metadata": {
        "collapsed": false
      },
      "outputs": [],
      "source": [
        "clustered = flat_vectors.cluster(\n    scan,\n    column_scale_factors=[2, 2, 0.05, 0.05],\n    columns=[0, 1, 2, 3],\n    min_vectors=40,\n)\nm, p = clustered.to_markers(s, alpha=0.8, get_polygons=True)\ns.plot()\ns.add_marker(m)\ns.add_marker(p, plot_on_signal=False)"
      ]
    },
    {
      "cell_type": "code",
      "execution_count": null,
      "metadata": {
        "collapsed": false
      },
      "outputs": [],
      "source": [
        "vect = clustered.map_vectors(\n    pxm.utils.vectors.column_mean,\n    columns=[0, 1],\n    label_index=-1,\n    dtype=float,\n    shape=(2,),\n)\nplt.figure()\nplt.scatter(vect[:, 1], vect[:, 0])"
      ]
    },
    {
      "cell_type": "code",
      "execution_count": null,
      "metadata": {
        "collapsed": false
      },
      "outputs": [],
      "source": [
        "clusterer = DBSCAN(min_samples=2, eps=4)\n\nclustered2 = clustered.cluster_labeled_vectors(method=clusterer)\nm, p = clustered2.to_markers(s, alpha=0.8, get_polygons=True)"
      ]
    },
    {
      "cell_type": "markdown",
      "metadata": {},
      "source": [
        "## Visualizing the Clustering\n\nThis clustering is works pretty good after the second step.  We can interact with the results as well in order\nto see regions where the clustering doesn't work quite as well!\n\n"
      ]
    },
    {
      "cell_type": "code",
      "execution_count": null,
      "metadata": {
        "collapsed": false
      },
      "outputs": [],
      "source": [
        "m, p = clustered2.to_markers(\n    s, alpha=0.8, get_polygons=True, facecolor=\"none\", sizes=(30,), lw=5\n)\ns.axes_manager.indices = (45, 45)\ns.plot()\ns.add_marker(m)\ns.add_marker(p, plot_on_signal=False)\n# sphinx_gallery_thumbnail_number = 5"
      ]
    }
  ],
  "metadata": {
    "kernelspec": {
      "display_name": "Python 3",
      "language": "python",
      "name": "python3"
    },
    "language_info": {
      "codemirror_mode": {
        "name": "ipython",
        "version": 3
      },
      "file_extension": ".py",
      "mimetype": "text/x-python",
      "name": "python",
      "nbconvert_exporter": "python",
      "pygments_lexer": "ipython3",
      "version": "3.12.11"
    }
  },
  "nbformat": 4,
  "nbformat_minor": 0
}