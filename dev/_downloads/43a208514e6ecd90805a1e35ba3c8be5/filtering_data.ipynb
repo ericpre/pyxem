{
  "cells": [
    {
      "cell_type": "markdown",
      "metadata": {},
      "source": [
        "\n# Filtering Data (Averaging Neighboring Patterns etc.)\n\nIf you have a low number of counts in your data, you may want to filter the data\nto remove noise. This can be done using the `filter` function which applies some\nfunction to the entire dataset and returns a filtered dataset of the same shape.\n\nIn this example, we will use the `filter` function to apply a Gaussian filter in\nonly the real space dimensions of the dataset. This is useful for removing noise\nas it acts like a spatial bandpass filter for high frequencies (noise) in the dataset.\n\nBecause the STEM probe is Gaussian-like, and the convolution of two Gaussian functions\nis another Gaussian function, the Gaussian filter is a good choice for filtering and is\nequivalent to aquiring the data with a larger probe size equal to\n$\\sigma_{Filtererd} = \\sqrt{\\sigma_{Beam}^2 + \\sigma_{Filter}^2}$.  The benefit is\nthat the total aquisition time is much shorter than if the probe size was increased to\nreach the same number of counts.  For detectors with low saturation counts, this can be\na significant advantage.\n"
      ]
    },
    {
      "cell_type": "code",
      "execution_count": null,
      "metadata": {
        "collapsed": false
      },
      "outputs": [],
      "source": [
        "from scipy.ndimage import gaussian_filter\nfrom dask_image.ndfilters import gaussian_filter as dask_gaussian_filter\nimport pyxem as pxm\nimport hyperspy.api as hs\nimport numpy as np\n\ns = pxm.data.tilt_boundary_data()\n\ns_filtered = s.filter(\n    gaussian_filter, sigma=1.0, inplace=False\n)  # Gaussian filter with sigma=1.0\n\ns_filtered2 = s.filter(\n    gaussian_filter, sigma=(1.0, 1.0, 0, 0), inplace=False\n)  # Only filter in real space\n\nhs.plot.plot_images(\n    [s.inav[3, 3], s_filtered.inav[3, 3], s_filtered2.inav[3, 3]],\n    label=[\"Original\", \"GaussFilt(all)\", \"GaussFilt(real space)\"],\n    tight_layout=True,\n    vmax=\"99th\",\n)"
      ]
    },
    {
      "cell_type": "markdown",
      "metadata": {},
      "source": [
        "The `filter` function can also be used with a custom function as long as the function\ntakes a numpy array as input and returns a numpy array of the same shape.\n\n"
      ]
    },
    {
      "cell_type": "code",
      "execution_count": null,
      "metadata": {
        "collapsed": false
      },
      "outputs": [],
      "source": [
        "def custom_filter(array):\n    filtered = gaussian_filter(array, sigma=1.0)\n    return filtered - np.mean(filtered)\n\n\ns_filtered3 = s.filter(custom_filter, inplace=False)  # Custom filter\n\nhs.plot.plot_images(\n    [s.inav[3, 3], s_filtered3.inav[3, 3]],\n    label=[\"Original\", \"GaussFilt(Custom)\"],\n    tight_layout=True,\n    vmax=\"99th\",\n)"
      ]
    },
    {
      "cell_type": "markdown",
      "metadata": {},
      "source": [
        "For lazy datasets, functions which operate on dask arrays can be used. For example,\nthe `gaussian_filter` function from `scipy.ndimage` is replaced with the `dask_image`\nversion which operates on dask arrays.\n\n"
      ]
    },
    {
      "cell_type": "code",
      "execution_count": null,
      "metadata": {
        "collapsed": false
      },
      "outputs": [],
      "source": [
        "s = s.as_lazy()  # Convert to lazy dataset\ns_filtered4 = s.filter(\n    dask_gaussian_filter, sigma=1.0, inplace=False\n)  # Gaussian filter with sigma=1.0\n\nhs.plot.plot_images(\n    [s_filtered.inav[3, 3], s_filtered4.inav[3, 3]],\n    label=[\"GaussFilt\", \"GaussFilt(Lazy)\"],\n    tight_layout=True,\n    vmax=\"99th\",\n)"
      ]
    }
  ],
  "metadata": {
    "kernelspec": {
      "display_name": "Python 3",
      "language": "python",
      "name": "python3"
    },
    "language_info": {
      "codemirror_mode": {
        "name": "ipython",
        "version": 3
      },
      "file_extension": ".py",
      "mimetype": "text/x-python",
      "name": "python",
      "nbconvert_exporter": "python",
      "pygments_lexer": "ipython3",
      "version": "3.12.11"
    }
  },
  "nbformat": 4,
  "nbformat_minor": 0
}