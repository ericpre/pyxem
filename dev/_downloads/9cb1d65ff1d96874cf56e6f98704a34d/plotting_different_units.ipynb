{
  "cells": [
    {
      "cell_type": "markdown",
      "metadata": {},
      "source": [
        "\n# Plotting using Different Units\n\nSometimes you might want to plot using different units, such as pixel coordinates,\nor mrad or nm^-1. Pyxem makes it easy to plot using different units.  This does require\ncertain calibration information to be set, such as the beam energy and the pixel size.\n"
      ]
    },
    {
      "cell_type": "code",
      "execution_count": null,
      "metadata": {
        "collapsed": false
      },
      "outputs": [],
      "source": [
        "from pyxem.data import fe_multi_phase_grains\n\nmulti_phase = fe_multi_phase_grains()\n\nmulti_phase.calibration.beam_energy = 200  # Set the beam energy to 200 keV\nmulti_phase.calibration.physical_pixel_size = 15e-6  # Set the pixel size to 15 um\nmulti_phase.calibration.units = \"nm^-1\"  # Set the units to nm^-1\nmulti_phase.calibration.scale = 0.1  # Set the scale to 0.1 nm^-1"
      ]
    },
    {
      "cell_type": "markdown",
      "metadata": {},
      "source": [
        "Plotting the diffraction pattern using pixel coordinates\n\n"
      ]
    },
    {
      "cell_type": "code",
      "execution_count": null,
      "metadata": {
        "collapsed": false
      },
      "outputs": [],
      "source": [
        "multi_phase.plot(units=\"px\")"
      ]
    },
    {
      "cell_type": "markdown",
      "metadata": {},
      "source": [
        "Plotting the diffraction pattern using mrad\n\n"
      ]
    },
    {
      "cell_type": "code",
      "execution_count": null,
      "metadata": {
        "collapsed": false
      },
      "outputs": [],
      "source": [
        "multi_phase.plot(units=\"mrad\")"
      ]
    },
    {
      "cell_type": "markdown",
      "metadata": {},
      "source": [
        "Plotting the diffraction pattern using A^-1\n\n"
      ]
    },
    {
      "cell_type": "code",
      "execution_count": null,
      "metadata": {
        "collapsed": false
      },
      "outputs": [],
      "source": [
        "multi_phase.plot(units=\"A^-1\")"
      ]
    }
  ],
  "metadata": {
    "kernelspec": {
      "display_name": "Python 3",
      "language": "python",
      "name": "python3"
    },
    "language_info": {
      "codemirror_mode": {
        "name": "ipython",
        "version": 3
      },
      "file_extension": ".py",
      "mimetype": "text/x-python",
      "name": "python",
      "nbconvert_exporter": "python",
      "pygments_lexer": "ipython3",
      "version": "3.12.11"
    }
  },
  "nbformat": 4,
  "nbformat_minor": 0
}