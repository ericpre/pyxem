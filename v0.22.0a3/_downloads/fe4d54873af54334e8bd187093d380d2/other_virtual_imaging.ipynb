{
  "cells": [
    {
      "cell_type": "markdown",
      "metadata": {},
      "source": [
        "\n# Other Virtual Imaging\n"
      ]
    },
    {
      "cell_type": "code",
      "execution_count": null,
      "metadata": {
        "collapsed": false
      },
      "outputs": [],
      "source": [
        "import pyxem as pxm\nimport hyperspy.api as hs\n\nvectors = pxm.utils.virtual_images_utils.get_vectors_mesh(\n    10, 10, 40, angle=0.0, shear=0.0\n)\nrois, labels = pxm.signals.DiffractionVectors2D(vectors).to_roi(\n    radius=4, include_labels=True\n)\nc = pxm.data.dummy_data.get_cbed_signal()\nc.calibration(center=None)\nc.plot()\nfor r in rois:\n    r.add_widget(c, axes=(2, 3))\nc.add_marker(labels)"
      ]
    },
    {
      "cell_type": "code",
      "execution_count": null,
      "metadata": {
        "collapsed": false
      },
      "outputs": [],
      "source": [
        "vdfs = c.get_virtual_image(rois)\n\nvdfs.plot()"
      ]
    },
    {
      "cell_type": "markdown",
      "metadata": {},
      "source": [
        "We can also use multiple different ROIs and combine them into a virtual image.\n\n"
      ]
    },
    {
      "cell_type": "code",
      "execution_count": null,
      "metadata": {
        "collapsed": false
      },
      "outputs": [],
      "source": [
        "r1 = hs.roi.RectangularROI(-35, -35, 35, 35)\nc1 = hs.roi.CircleROI(cx=25.5, cy=24.5, r=7, r_inner=0)\nc2 = hs.roi.CircleROI(cx=0, cy=0, r=30.5, r_inner=10.0)\n\nc.plot()\nfor r in [r1, c1, c2]:\n    r.add_widget(c, axes=(2, 3))\n\nvdfs = c.get_virtual_image([r1, c1, c2])\n\nvdfs.plot()"
      ]
    }
  ],
  "metadata": {
    "kernelspec": {
      "display_name": "Python 3",
      "language": "python",
      "name": "python3"
    },
    "language_info": {
      "codemirror_mode": {
        "name": "ipython",
        "version": 3
      },
      "file_extension": ".py",
      "mimetype": "text/x-python",
      "name": "python",
      "nbconvert_exporter": "python",
      "pygments_lexer": "ipython3",
      "version": "3.12.11"
    }
  },
  "nbformat": 4,
  "nbformat_minor": 0
}