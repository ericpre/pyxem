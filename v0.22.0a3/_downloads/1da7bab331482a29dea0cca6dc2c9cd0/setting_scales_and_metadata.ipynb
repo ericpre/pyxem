{
  "cells": [
    {
      "cell_type": "markdown",
      "metadata": {},
      "source": [
        "\n# Setting Scales and Metadata\n\nFor the most part Rosettasciio will automatically get the scales and the metadata\nfrom the file. Sometimes, however, you may want to set the scales and metadata yourself.\n"
      ]
    },
    {
      "cell_type": "code",
      "execution_count": null,
      "metadata": {
        "collapsed": false
      },
      "outputs": [],
      "source": [
        "from pyxem.data import simulated_strain\n\nstrained_signal = simulated_strain(\n    navigation_shape=(32, 32),\n    signal_shape=(512, 512),\n    disk_radius=20,\n    num_electrons=1e5,\n    strain_matrix=None,\n    lazy=True,\n)"
      ]
    },
    {
      "cell_type": "markdown",
      "metadata": {},
      "source": [
        "## Setting the scales\nThe scales can be set using the ``set`` method. If you pass in a list it will\nautomatically set the scales for each dimension. If you pass in a single value\nit will set that property for all dimensions.\n\n"
      ]
    },
    {
      "cell_type": "code",
      "execution_count": null,
      "metadata": {
        "collapsed": false
      },
      "outputs": [],
      "source": [
        "strained_signal.axes_manager.navigation_axes.set(\n    scale=0.1, units=\"nm\", name=[\"x\", \"y\"], offset=[2, 3]  # offset in nm,\n)\n\nstrained_signal.axes_manager.signal_axes.set(\n    scale=0.1, units=\"nm^-1\", name=[\"kx\", \"ky\"], offset=[2, 3]  # offset in nm\n)"
      ]
    },
    {
      "cell_type": "markdown",
      "metadata": {},
      "source": [
        "## Setting the Detector Gain\nIn most cases data is in units of detector counts or electrons.\nSetting the ``detector_gain`` property will set your plot to be\nin units of electrons.\n\n"
      ]
    },
    {
      "cell_type": "code",
      "execution_count": null,
      "metadata": {
        "collapsed": false
      },
      "outputs": [],
      "source": [
        "strained_signal.calibration.detector_gain = 1"
      ]
    },
    {
      "cell_type": "markdown",
      "metadata": {},
      "source": [
        "## Setting Other Metadata\nPyxem also has a number of other metadata properties that can be set using the\ncalibration object for convenience. For example:\n\n"
      ]
    },
    {
      "cell_type": "code",
      "execution_count": null,
      "metadata": {
        "collapsed": false
      },
      "outputs": [],
      "source": [
        "strained_signal.calibration.beam_energy = 200  # in keV\nstrained_signal.calibration.physical_pixel_size = (\n    15e-6  # in meters, this is the physical pixel size of the detector\n)\nstrained_signal.center = (\n    None  # Set the center to be the center of the signal (changes offsets)\n)\nstrained_signal.center = (\n    256,\n    256,\n)  # Set the center to be at (256, 256) in pixel coordinates\nstrained_signal.calibration.convergence_angle = 1.5  # in mrad"
      ]
    }
  ],
  "metadata": {
    "kernelspec": {
      "display_name": "Python 3",
      "language": "python",
      "name": "python3"
    },
    "language_info": {
      "codemirror_mode": {
        "name": "ipython",
        "version": 3
      },
      "file_extension": ".py",
      "mimetype": "text/x-python",
      "name": "python",
      "nbconvert_exporter": "python",
      "pygments_lexer": "ipython3",
      "version": "3.12.11"
    }
  },
  "nbformat": 4,
  "nbformat_minor": 0
}