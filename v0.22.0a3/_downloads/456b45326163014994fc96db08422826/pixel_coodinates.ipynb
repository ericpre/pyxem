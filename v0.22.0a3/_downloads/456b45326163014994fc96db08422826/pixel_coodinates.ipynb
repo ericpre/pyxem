{
  "cells": [
    {
      "cell_type": "markdown",
      "metadata": {},
      "source": [
        "\n# Coordinates in Pyxem\n\nPyxem is flexible in how it handles coordinates for a diffraction pattern.\n\nThere are three main ways to handle coordinates in Pyxem:\n\n1. Pixel coordinates\n2. Calibrated Coordinates with evenly spaced axes\n3. Calibrated Coordinates with unevenly spaced axes (e.g. corrected for the Ewald sphere)\n"
      ]
    },
    {
      "cell_type": "code",
      "execution_count": null,
      "metadata": {
        "collapsed": false
      },
      "outputs": [],
      "source": [
        "import pyxem as pxm\nfrom skimage.morphology import disk\n\n\ns = pxm.signals.Diffraction2D(disk((10)))\ns.calibration.center = None\nprint(s.calibration.center)"
      ]
    },
    {
      "cell_type": "code",
      "execution_count": null,
      "metadata": {
        "collapsed": false
      },
      "outputs": [],
      "source": [
        "s.plot(axes_ticks=True)"
      ]
    },
    {
      "cell_type": "markdown",
      "metadata": {},
      "source": [
        "From the plot above you can see that hyperspy automatically sets the axes ticks to be centered\non each pixel. This means that for a 21x21 pixel image, the center is at (-10, -10) in pixel coordinates.\nif we change the scale using the calibration function it will automatically adjust the center.  Here it is\nnow (-1, -1)\n\n"
      ]
    },
    {
      "cell_type": "code",
      "execution_count": null,
      "metadata": {
        "collapsed": false
      },
      "outputs": [],
      "source": [
        "s.calibration.scale = 0.1\ns.calibration.units = \"nm$^{-1}$\"\ns.plot(axes_ticks=True)\nprint(s.calibration.center)"
      ]
    },
    {
      "cell_type": "markdown",
      "metadata": {},
      "source": [
        "## Azimuthal Integration\n\nNow if we do integrate this dataset it will choose the appropriate center based on the center pixel.\n\n"
      ]
    },
    {
      "cell_type": "code",
      "execution_count": null,
      "metadata": {
        "collapsed": false
      },
      "outputs": [],
      "source": [
        "az = s.get_azimuthal_integral2d(npt=30)\naz.plot()"
      ]
    },
    {
      "cell_type": "markdown",
      "metadata": {},
      "source": [
        "## Non-Linear Axes\n\nNow consider the case where we have non-linear axes. In this case the center is still (10,10)\nbut things are streatched based on the effects of the Ewald Sphere.\n\n"
      ]
    },
    {
      "cell_type": "code",
      "execution_count": null,
      "metadata": {
        "collapsed": false
      },
      "outputs": [],
      "source": [
        "s.calibration.beam_energy = 200\ns.calibration.detector(pixel_size=0.1, detector_distance=3)\nprint(s.calibration.center)\ns.plot()\n\naz = s.get_azimuthal_integral2d(npt=30)\naz.plot()"
      ]
    },
    {
      "cell_type": "markdown",
      "metadata": {},
      "source": [
        "sphinx_gallery_thumbnail_number = 4\n\n"
      ]
    }
  ],
  "metadata": {
    "kernelspec": {
      "display_name": "Python 3",
      "language": "python",
      "name": "python3"
    },
    "language_info": {
      "codemirror_mode": {
        "name": "ipython",
        "version": 3
      },
      "file_extension": ".py",
      "mimetype": "text/x-python",
      "name": "python",
      "nbconvert_exporter": "python",
      "pygments_lexer": "ipython3",
      "version": "3.12.11"
    }
  },
  "nbformat": 4,
  "nbformat_minor": 0
}