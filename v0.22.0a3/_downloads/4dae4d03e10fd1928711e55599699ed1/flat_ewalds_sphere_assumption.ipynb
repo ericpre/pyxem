{
  "cells": [
    {
      "cell_type": "markdown",
      "metadata": {},
      "source": [
        "\n# Flat Ewald's Sphere Assumption\nIn most cases, the Ewald's sphere is assumed to be flat for diffraction patterns when doing 4D STEM.\nThis is almost always a good assumption.  That being said there are a couple of common units\nused with 4D STEM (e.g. nm\\ :sup:`-1`, mrad, pixel coordinates) and it is important to understand how these\nunits relate to each other.  These units are also related to the camera length, pixel size, and beam energy\n(wavelength) of the microscope.  In reality the beam energy is really the only thing that you need to\nknow.\n\nLet's look at an example of this using the `ZrNb Precipitate` dataset.\n"
      ]
    },
    {
      "cell_type": "code",
      "execution_count": null,
      "metadata": {
        "collapsed": false
      },
      "outputs": [],
      "source": [
        "from pyxem.data import pdnip_glass\n\ng = pdnip_glass(allow_download=True)\ng.calibration.beam_energy = \"200 kV\"\ng.calibration.convergance_angle = \"1 mrad\"  # set the convergence angle"
      ]
    },
    {
      "cell_type": "markdown",
      "metadata": {},
      "source": [
        "# Changing to mrad\nNow we can change the units to mrad. This will automatically calculate the camera length based on the\nbeam energy and pixel size.\n\n"
      ]
    },
    {
      "cell_type": "code",
      "execution_count": null,
      "metadata": {
        "collapsed": false
      },
      "outputs": [],
      "source": [
        "g.calibration.convert_signal_units(\"mrad\")\n\ng.plot()"
      ]
    },
    {
      "cell_type": "markdown",
      "metadata": {},
      "source": [
        "# Changing back to nm\\ :sup:`-1`\nWe can change back to nm\\ :sup:`-1`, now that the camera length is (accurately) set, and the\nnew scale will be automatically calculated.\n\n"
      ]
    },
    {
      "cell_type": "code",
      "execution_count": null,
      "metadata": {
        "collapsed": false
      },
      "outputs": [],
      "source": [
        "g.calibration.convert_signal_units(\"nm^-1\")\ng.plot()"
      ]
    },
    {
      "cell_type": "markdown",
      "metadata": {},
      "source": [
        "# Changing to pixel coordinates\nWe can also change to pixel coordinates. This will set the scale to 1 and the units to \"px\". But we won't\nlose the calibration information, so we can switch back to nm\\ :sup:`-1` or mrad easily.\n\n"
      ]
    },
    {
      "cell_type": "code",
      "execution_count": null,
      "metadata": {
        "collapsed": false
      },
      "outputs": [],
      "source": [
        "g.calibration.convert_signal_units(\"px\")\nprint(g.calibration._mrad_scale)  # scale in mrad\n\ng.plot()\nprint(\"after\", g.calibration._mrad_scale)  # scale in mrad"
      ]
    },
    {
      "cell_type": "markdown",
      "metadata": {},
      "source": [
        "# Rebinning\nWe can also rebin the data in pyxem and the calibration will automatically adjust\n\n"
      ]
    },
    {
      "cell_type": "code",
      "execution_count": null,
      "metadata": {
        "collapsed": false
      },
      "outputs": [],
      "source": [
        "g.calibration.convert_signal_units(\"nm^-1\")\ng_rebinned = g.rebin(scale=(1, 1, 2, 2))\ng_rebinned.plot()"
      ]
    },
    {
      "cell_type": "markdown",
      "metadata": {},
      "source": [
        "sphinx_gallery_thumbnail_number = 2\n\n"
      ]
    }
  ],
  "metadata": {
    "kernelspec": {
      "display_name": "Python 3",
      "language": "python",
      "name": "python3"
    },
    "language_info": {
      "codemirror_mode": {
        "name": "ipython",
        "version": 3
      },
      "file_extension": ".py",
      "mimetype": "text/x-python",
      "name": "python",
      "nbconvert_exporter": "python",
      "pygments_lexer": "ipython3",
      "version": "3.12.11"
    }
  },
  "nbformat": 4,
  "nbformat_minor": 0
}