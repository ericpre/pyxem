{
  "cells": [
    {
      "cell_type": "markdown",
      "metadata": {},
      "source": [
        "\n# Circular Hough Transform Peak Finding\n\nThe Circular Hough Transform is a method to detect circular features in an image. It can be\nused to detect rings (or disks) in the diffraction pattern.  For strain mapping there is\nsome evidence that the Circular Hough transform is more accurate than typical template matching\nand can provide subpixel accuracy.\n\nThat being said, the Windowed Template Matching that pyxem uses is quite robust, (both to noise\nand in homogeniety in the diffraction disks) although a complete comparison hasn't been fully\nstudied.\n"
      ]
    },
    {
      "cell_type": "markdown",
      "metadata": {},
      "source": [
        "Making a Dummy Dataset\n\n"
      ]
    },
    {
      "cell_type": "code",
      "execution_count": null,
      "metadata": {
        "collapsed": false
      },
      "outputs": [],
      "source": [
        "import hyperspy.api as hs\nimport pyxem as pxm\nfrom skimage.transform import hough_circle\nfrom skimage.feature import canny\nimport numpy as np\n\ns = pxm.data.tilt_boundary_data(correct_pivot_point=True)"
      ]
    },
    {
      "cell_type": "markdown",
      "metadata": {},
      "source": [
        "## Canny Filter\nFirst we have to apply a Canny filter to the dataset to get a binary image of the\noutlines of the disks.  This is basically a 1st diriviative in reciporical space\n\n"
      ]
    },
    {
      "cell_type": "code",
      "execution_count": null,
      "metadata": {
        "collapsed": false
      },
      "outputs": [],
      "source": [
        "# Filter the image with a Canny filter.\ncanny_img = s.map(\n    canny,\n    sigma=2,\n    low_threshold=0.6,\n    high_threshold=0.8,\n    inplace=False,\n    use_quantiles=True,\n)\n\ncanny_img.plot()  # Plotting canny filtered image with outlines"
      ]
    },
    {
      "cell_type": "markdown",
      "metadata": {},
      "source": [
        "## Computing the Hough Transform\nWe can then compute the hough Transform using the radius of the disk. It is possible to\nhave multiple radii but that will return multiple signals for each radii\n\n"
      ]
    },
    {
      "cell_type": "code",
      "execution_count": null,
      "metadata": {
        "collapsed": false
      },
      "outputs": [],
      "source": [
        "def hough_circle_single_rad(img, radius, **kwargs):\n    return hough_circle(img, radius, **kwargs)[\n        0\n    ]  # Otherwise multiple radii are returned\n\n\ncircular_hough = canny_img.map(hough_circle_single_rad, radius=6, inplace=False)\ncircular_hough.plot()"
      ]
    },
    {
      "cell_type": "markdown",
      "metadata": {},
      "source": [
        "## Finding Peaks\nFinding peaks is fairly easy from this point and uses the ``get_diffraction_vectors`` function.\n\n"
      ]
    },
    {
      "cell_type": "code",
      "execution_count": null,
      "metadata": {
        "collapsed": false
      },
      "outputs": [],
      "source": [
        "dv = circular_hough.get_diffraction_vectors(threshold_abs=0.4, min_distance=4)\n\nm = dv.to_markers(facecolor=\"none\", edgecolor=\"w\")\ncircular_hough.plot()\ncircular_hough.add_marker(m)"
      ]
    },
    {
      "cell_type": "markdown",
      "metadata": {},
      "source": [
        "sphinx_gallery_thumbnail_number = 6\n\n"
      ]
    }
  ],
  "metadata": {
    "kernelspec": {
      "display_name": "Python 3",
      "language": "python",
      "name": "python3"
    },
    "language_info": {
      "codemirror_mode": {
        "name": "ipython",
        "version": 3
      },
      "file_extension": ".py",
      "mimetype": "text/x-python",
      "name": "python",
      "nbconvert_exporter": "python",
      "pygments_lexer": "ipython3",
      "version": "3.12.11"
    }
  },
  "nbformat": 4,
  "nbformat_minor": 0
}