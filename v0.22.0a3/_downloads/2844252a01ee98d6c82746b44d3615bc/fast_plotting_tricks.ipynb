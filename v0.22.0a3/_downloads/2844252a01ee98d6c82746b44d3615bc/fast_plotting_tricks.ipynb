{
  "cells": [
    {
      "cell_type": "markdown",
      "metadata": {},
      "source": [
        "\n# Fast Plotting Tricks\n\nSometimes you want to quickly plot a diffraction pattern but things seem slow,\nthis mostly happens with \"large\" data that is loaded Lazily.\n\nThere are a couple of different ways that plotting in hyperspy/pyxem can be slow:\n\n1. The data is too large and the navigator is being recalculated every time you plot. (i.e. calling s.plot()\n takes a long time to render)\n2. Dragging the navigator is slow and laggy.\n"
      ]
    },
    {
      "cell_type": "code",
      "execution_count": null,
      "metadata": {
        "collapsed": false
      },
      "outputs": [],
      "source": [
        "from pyxem.data import fe_multi_phase_grains\nimport numpy as np\nimport hyperspy.api as hs\n\ns = fe_multi_phase_grains().as_lazy()"
      ]
    },
    {
      "cell_type": "markdown",
      "metadata": {},
      "source": [
        "## Pre Computing a Navaigator\nTo solve the first problem, you can:\n\n1. Precompute the navigator using the :meth:`hyperspy.api.signals.plot` method or\nthe :meth:`hyperspy._signals.LazySignal.compute_navigator` method\nwhich will compute the navigator and store it in the signal. This will make plotting faster.\n\n"
      ]
    },
    {
      "cell_type": "code",
      "execution_count": null,
      "metadata": {
        "collapsed": false
      },
      "outputs": [],
      "source": [
        "s.compute_navigator()\nprint(s.navigator)"
      ]
    },
    {
      "cell_type": "markdown",
      "metadata": {},
      "source": [
        "## Setting a Navigator\n2. You can also set the navigator directly using `s.navigator = ...` if you have a navigator\nthat you want to use. This is useful if a virtual image is created along with the signal when\nthe data is acquired.  This will also save the navigator in the metadata. This is similar to the\n:meth:`hyperspy._signals.LazySignal.compute_navigator`method of the signal and\nwill be saved when the signal is saved.\n\n"
      ]
    },
    {
      "cell_type": "code",
      "execution_count": null,
      "metadata": {
        "collapsed": false
      },
      "outputs": [],
      "source": [
        "dummy_navigator = hs.signals.Signal2D(np.ones((20, 20)))  # just a dummy navigator\ns.navigator = dummy_navigator\n# or\ns.plot(navigator=dummy_navigator)"
      ]
    },
    {
      "cell_type": "markdown",
      "metadata": {},
      "source": [
        "## Using a Slider to Navigate\n3. You also don't need to plot the navigator every time you plot the signal. You can set\n`navigator = \"slider\"` to avoid plotting the navigator altogether and just use the sliders.\n\n"
      ]
    },
    {
      "cell_type": "code",
      "execution_count": null,
      "metadata": {
        "collapsed": false
      },
      "outputs": [],
      "source": [
        "s.plot(navigator=\"slider\")"
      ]
    },
    {
      "cell_type": "markdown",
      "metadata": {},
      "source": [
        "## Using the QT Backend and Blitting\nTo solve the second problem, you can:\n\n1. Use the Qt backend by running `%matplotlib qt` in a Jupyter notebook cell. This will make the\nnavigator much more responsive using \"blitting\" which only updates the parts of the plot that\nhave changed. Note that the QT backend is not available in Google Colab or when running in a\nJupyter notebook on a remote server.\n\n## Using Shift + Click to Jump\n2. You can use the Shift + Click feature to \"Jump\" to a specific location in the navigator.\nThis is useful if you want to quickly move to a specific location in the navigator without\ndragging the navigator and loading all the data in between.\n\n3. You can also set the navigator point using the `axes_manager.indices` attribute.\n\n"
      ]
    },
    {
      "cell_type": "code",
      "execution_count": null,
      "metadata": {
        "collapsed": false
      },
      "outputs": [],
      "source": [
        "s.axes_manager.indices = (5, 5)  # jump to the center of the navigator\ns.plot()"
      ]
    },
    {
      "cell_type": "markdown",
      "metadata": {},
      "source": [
        "## Saving the Data\n4. Finally, you can always consider saving the data in a more performant format like `.zspy`\nThis will make loading the data faster which will in turn make plotting faster!\n\n"
      ]
    },
    {
      "cell_type": "code",
      "execution_count": null,
      "metadata": {
        "collapsed": false
      },
      "outputs": [],
      "source": [
        "s.save(\"fast_and_compressed.zspy\")\n\nhs.load(\"fast_and_compressed.zspy\").plot()  # reload the data and plot it"
      ]
    }
  ],
  "metadata": {
    "kernelspec": {
      "display_name": "Python 3",
      "language": "python",
      "name": "python3"
    },
    "language_info": {
      "codemirror_mode": {
        "name": "ipython",
        "version": 3
      },
      "file_extension": ".py",
      "mimetype": "text/x-python",
      "name": "python",
      "nbconvert_exporter": "python",
      "pygments_lexer": "ipython3",
      "version": "3.12.11"
    }
  },
  "nbformat": 4,
  "nbformat_minor": 0
}