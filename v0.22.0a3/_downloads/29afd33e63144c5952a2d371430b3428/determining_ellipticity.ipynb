{
  "cells": [
    {
      "cell_type": "markdown",
      "metadata": {},
      "source": [
        "\n# Determining Elliptic Distortion\nThis example shows how to determine the elliptic distortion of an diffraction pattern from uncorrected\n2-fold astigmatism.  Determining the exact elliptic distortion is important for tasks such as\n\n- Orientation mapping\n- Angular Correlation (AC)\n- Fluctuation Electron Microscopy (FEM)\n- And many other 4-D STEM techniques\n\nNote that this workflow might change (simplify and improve!) in the future as pyxem\n1.0.0 is developed/released.\n"
      ]
    },
    {
      "cell_type": "markdown",
      "metadata": {},
      "source": [
        "First, we import the necessary packages and make a single test diffraction pattern.\n\n"
      ]
    },
    {
      "cell_type": "code",
      "execution_count": null,
      "metadata": {
        "collapsed": false
      },
      "outputs": [],
      "source": [
        "import pyxem.data.dummy_data.make_diffraction_test_data as mdtd\nimport pyxem as pxm\nimport pyxem.utils.ransac_ellipse_tools as ret\nimport hyperspy.api as hs\nfrom skimage import morphology\nfrom scipy.signal import convolve2d\nfrom pyxem.signals.diffraction2d import Diffraction2D\nimport math\nimport numpy as np\n\ntest_data = mdtd.MakeTestData(200, 200, default=False)\ntest_data.add_disk(x0=100, y0=100, r=5, intensity=30)\ntest_data.add_ring_ellipse(x0=100, y0=100, semi_len0=63, semi_len1=70, rotation=45)\ns = test_data.signal\ns.set_signal_type(\"electron_diffraction\")\ns.plot()"
      ]
    },
    {
      "cell_type": "markdown",
      "metadata": {},
      "source": [
        "## Using RANSAC Ellipse Determination\nThe RANSAC algorithm is a robust method for fitting an ellipse to points with outliers. Here we\nuse it to determine the elliptic distortion of the diffraction pattern and exclude the zero\nbeam as \"outliers\".  We can also manually exclude other points from the fit by using the\nmask parameter.\n\n"
      ]
    },
    {
      "cell_type": "code",
      "execution_count": null,
      "metadata": {
        "collapsed": false
      },
      "outputs": [],
      "source": [
        "center, affine, params, pos, inlier = pxm.utils.ransac_ellipse_tools.determine_ellipse(\n    s, use_ransac=True, return_params=True\n)\n\nel, in_points, out_points = pxm.utils.ransac_ellipse_tools.ellipse_to_markers(\n    ellipse_array=params, points=pos, inlier=inlier\n)\n\ns.plot()\ns.add_marker(in_points, plot_marker=True)\ns.add_marker(el, plot_marker=True)\ns.add_marker(out_points, plot_marker=True)"
      ]
    },
    {
      "cell_type": "markdown",
      "metadata": {},
      "source": [
        "## Using Manual Ellipse Determination\nSometimes it is useful to force the ellipse to fit certain points.  For example, here we\ncan force the ellipse to fit the first ring by masking the zero beam.\n\n"
      ]
    },
    {
      "cell_type": "code",
      "execution_count": null,
      "metadata": {
        "collapsed": false
      },
      "outputs": [],
      "source": [
        "mask = s.get_direct_beam_mask(radius=20)\n\ncenter, affine, params, pos = pxm.utils.ransac_ellipse_tools.determine_ellipse(\n    s,\n    return_params=True,\n    mask=mask.data,\n    num_points=500,\n    use_ransac=False,\n)\nel, in_points = pxm.utils.ransac_ellipse_tools.ellipse_to_markers(\n    ellipse_array=params,\n    points=pos,\n)\n\ns.plot()\ns.add_marker(in_points, plot_marker=True)\ns.add_marker(el, plot_marker=True)"
      ]
    },
    {
      "cell_type": "code",
      "execution_count": null,
      "metadata": {
        "collapsed": false
      },
      "outputs": [],
      "source": [
        "s.unit = \"k_nm^-1\"\ns.beam_energy = 200\ns.calibration.affine = affine\naz = s.get_azimuthal_integral2d(npt=100, inplace=False)\ncorr = s.apply_affine_transformation(affine, inplace=False)\n\nhs.plot.plot_images(\n    [az, corr],\n    label=[\"azimuthal unwrapped\", \"corrected\"],\n    tight_layout=True,\n    colorbar=None,\n)"
      ]
    },
    {
      "cell_type": "markdown",
      "metadata": {},
      "source": [
        "## Ellipse from Points\nThis workflow will likely change slightly in the future to add better parllelism,\nbut here is how to determine the ellipticity from a set of points.\nmaking a test elliptical diffraction pattern\n\n"
      ]
    },
    {
      "cell_type": "code",
      "execution_count": null,
      "metadata": {
        "collapsed": false
      },
      "outputs": [],
      "source": [
        "xf, yf, a, b, r, nt = 100, 115, 45, 35, 0, 15\ndata_points = ret.make_ellipse_data_points(xf, yf, a, b, r, nt)\nimage = np.zeros(shape=(200, 210), dtype=np.float32)\nfor x, y in data_points:\n    image[int(round(x)), int(round(y))] = 100\ndisk = morphology.disk(5, np.uint16)\nimage = convolve2d(image, disk, mode=\"same\")\ndata = np.zeros((2, 3, 210, 200), dtype=np.float32)\ndata[:, :] = image.T\ns = Diffraction2D(data)"
      ]
    },
    {
      "cell_type": "markdown",
      "metadata": {},
      "source": [
        "Finding the peaks\n\n"
      ]
    },
    {
      "cell_type": "code",
      "execution_count": null,
      "metadata": {
        "collapsed": false
      },
      "outputs": [],
      "source": [
        "s_t = s.template_match_disk(disk_r=5)\npeak_array = s_t.find_peaks(\n    method=\"difference_of_gaussian\",\n    threshold=0.1,\n    lazy_output=False,\n    interactive=False,\n).data\n\nc = math.sqrt(math.pow(a, 2) - math.pow(b, 2))\nxc, yc = xf - c * math.cos(r), yf - c * math.sin(r)\n\nellipse_array, inlier_array = ret.get_ellipse_model_ransac(\n    peak_array,\n    yf=yf,  # center y\n    xf=xf,  # center x\n    rf_lim=15,  # max center error\n    semi_len_min=min(a, b) - 5,  # min semi-len\n    semi_len_max=max(a, b) + 5,  # max semi-len\n    semi_len_ratio_lim=2,  # max semi-len ratio\n    max_trials=50,\n    min_samples=10,  # min inliers to fit\n)\n\ns.add_ellipse_array_as_markers(ellipse_array)\nel = ellipse_array[0, 0]\naffine = ret._ellipse_to_affine(el[2], el[3], el[4])\n\ntr = s.apply_affine_transformation(affine, inplace=False)\ntr.plot()"
      ]
    }
  ],
  "metadata": {
    "kernelspec": {
      "display_name": "Python 3",
      "language": "python",
      "name": "python3"
    },
    "language_info": {
      "codemirror_mode": {
        "name": "ipython",
        "version": 3
      },
      "file_extension": ".py",
      "mimetype": "text/x-python",
      "name": "python",
      "nbconvert_exporter": "python",
      "pygments_lexer": "ipython3",
      "version": "3.12.11"
    }
  },
  "nbformat": 4,
  "nbformat_minor": 0
}