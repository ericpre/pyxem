{
  "cells": [
    {
      "cell_type": "markdown",
      "metadata": {},
      "source": [
        "\n# Multi Phase Orientation Mapping\nYou can also calculate the orientation of the grains for multiple phases using the\n:meth:`pyxem.signals.PolarSignal2D.get_orientation` method. This requires that you\nsimulate the entire S2 space for the phase and then compare to the simulated diffraction.\n\nFor more information on the orientation mapping process see :cite:`pyxemorientationmapping2022`\n"
      ]
    },
    {
      "cell_type": "code",
      "execution_count": null,
      "metadata": {
        "collapsed": false
      },
      "outputs": [],
      "source": [
        "import pyxem as pxm\nfrom pyxem.data import fe_multi_phase_grains, fe_bcc_phase, fe_fcc_phase\nfrom diffsims.generators.simulation_generator import SimulationGenerator\nfrom orix.quaternion import Rotation\nfrom orix.sampling import get_sample_reduced_fundamental\nimport hyperspy.api as hs\n\nmulti_phase = fe_multi_phase_grains()"
      ]
    },
    {
      "cell_type": "markdown",
      "metadata": {},
      "source": [
        "First we center the diffraction patterns and get a polar signal\nIncreasing the number of npt_azim with give better polar sampling\nbut will take longer to compute the orientation map\nThe mean=True argument will return the mean pixel value in each bin rather than the sum\nthis makes the high k values more visible\n\n"
      ]
    },
    {
      "cell_type": "code",
      "execution_count": null,
      "metadata": {
        "collapsed": false
      },
      "outputs": [],
      "source": [
        "multi_phase.calibration.center = None\npolar_multi = multi_phase.get_azimuthal_integral2d(\n    npt=100, npt_azim=360, inplace=False, mean=True\n)\npolar_multi.plot()"
      ]
    },
    {
      "cell_type": "markdown",
      "metadata": {},
      "source": [
        "Now we can get make a simulation. In this case we want to set a minimum_intensity which removes the\nlow intensity reflections. We also sample the S2 space using the :func:`orix.sampling.get_sample_reduced_fundamental`\nWe have two phases here so we can make a simulation object with both of the phases.\n\n"
      ]
    },
    {
      "cell_type": "code",
      "execution_count": null,
      "metadata": {
        "collapsed": false
      },
      "outputs": [],
      "source": [
        "bcc = fe_bcc_phase()\nfcc = fe_fcc_phase()\nbcc.name = \"BCC Phase\"\nfcc.name = \"FCC Phase\"\nfcc.color = \"red\"\nbcc.color = \"blue\"\n\ngenerator = SimulationGenerator(200, minimum_intensity=0.05)\nrotations_bcc = get_sample_reduced_fundamental(\n    resolution=1, point_group=bcc.point_group\n)\nrotations_fcc = get_sample_reduced_fundamental(\n    resolution=1, point_group=fcc.point_group\n)\n\nsim = generator.calculate_diffraction2d(\n    [bcc, fcc],\n    rotation=[rotations_bcc, rotations_fcc],\n    max_excitation_error=0.1,\n    reciprocal_radius=2,\n    with_direct_beam=False,\n)"
      ]
    },
    {
      "cell_type": "markdown",
      "metadata": {},
      "source": [
        "## Orientation Mapping\nNow we can calculate the orientation map using the polar signal and the simulated diffraction pattern\nSometimes a gamma correction helps to re-normalize the intensity of the simulated diffraction pattern\nand increase the intensity of the high k diffraction spots. Unfortunately this is quite dependent on the\ndetector response/ sample thickness etc. As a result there is no good rule of thumb.  As such it is important\nto play with this value/ use the background correction to get the best results.\nAdditionally, here we have set the n_best to -1 which means that we will return all the\norientations in the simulation. This is not always the best option as it can lead to\nmemory spikes. It does allow us to plot a very nice heatmap of the orientation.\nWhich is useful for understanding the orientation mapping process and mis-orientations.\n\n"
      ]
    },
    {
      "cell_type": "code",
      "execution_count": null,
      "metadata": {
        "collapsed": false
      },
      "outputs": [],
      "source": [
        "polar_multi = polar_multi**0.5  # gamma correction\norientation_map = polar_multi.get_orientation(sim, n_best=-1, frac_keep=1)"
      ]
    },
    {
      "cell_type": "markdown",
      "metadata": {},
      "source": [
        "## Plotting The Orientation Mapping\nWe can then plot the orientation map using the :meth:`pyxem.signals.OrientationMap.plot_over_signal` method.\nHere we have set add_ipf_correlation_heatmap=True which will add a heatmap of the IPF correlation.\n\n"
      ]
    },
    {
      "cell_type": "code",
      "execution_count": null,
      "metadata": {
        "collapsed": false
      },
      "outputs": [],
      "source": [
        "orientation_map.plot_over_signal(\n    multi_phase, vmax=\"99th\", add_ipf_correlation_heatmap=True\n)"
      ]
    },
    {
      "cell_type": "markdown",
      "metadata": {},
      "source": [
        "## Getting the Crystal Map\nNow we can calculate the orientation map using the polar signal and the simulated diffraction pattern\nSometimes a gamma correction helps to re-normalize the intensity of the simulated diffraction pattern\nand increase the intensity of the high k diffraction spots. Unfortunately this is quite dependent on the\ndetector response/ sample thickness etc. As a result there is no good rule of thumb.  As such it is important\nto play with this value/ use the background correction to get the best results.\n\n"
      ]
    },
    {
      "cell_type": "code",
      "execution_count": null,
      "metadata": {
        "collapsed": false
      },
      "outputs": [],
      "source": [
        "cmap = orientation_map.to_crystal_map()\ncmap.plot()"
      ]
    },
    {
      "cell_type": "markdown",
      "metadata": {},
      "source": [
        "sphinx_gallery_thumbnail_number = 4\n\n"
      ]
    }
  ],
  "metadata": {
    "kernelspec": {
      "display_name": "Python 3",
      "language": "python",
      "name": "python3"
    },
    "language_info": {
      "codemirror_mode": {
        "name": "ipython",
        "version": 3
      },
      "file_extension": ".py",
      "mimetype": "text/x-python",
      "name": "python",
      "nbconvert_exporter": "python",
      "pygments_lexer": "ipython3",
      "version": "3.12.11"
    }
  },
  "nbformat": 4,
  "nbformat_minor": 0
}