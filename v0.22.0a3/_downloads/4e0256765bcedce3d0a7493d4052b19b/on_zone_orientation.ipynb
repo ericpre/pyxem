{
  "cells": [
    {
      "cell_type": "markdown",
      "metadata": {},
      "source": [
        "\n# On Zone Orientation\nSometimes you have a tilt boundary and you might want to know the orientation of the\ngrains on each side of the boundary. This can be done using the\n:meth:`pyxem.signals.PolarSignal2D.get_orientation` method.\n\nFor more information on the orientation mapping process see :cite:`pyxemorientationmapping2022`\n"
      ]
    },
    {
      "cell_type": "code",
      "execution_count": null,
      "metadata": {
        "collapsed": false
      },
      "outputs": [],
      "source": [
        "from pyxem.data import si_tilt, si_phase\nfrom diffsims.generators.simulation_generator import SimulationGenerator\nfrom orix.quaternion import Rotation\nfrom orix.vector import Vector3d\n\nsimulated_si_tilt = si_tilt()"
      ]
    },
    {
      "cell_type": "markdown",
      "metadata": {},
      "source": [
        "## Pre-Processing\nFirst we center the diffraction patterns and get a polar signal\nIncreasing the number of npt_azim with give better polar sampling\nbut will take longer to compute the orientation map\nThe mean=True argument will return the mean pixel value in each bin rather than the sum\nthis makes the high k values more visible\n\n"
      ]
    },
    {
      "cell_type": "code",
      "execution_count": null,
      "metadata": {
        "collapsed": false
      },
      "outputs": [],
      "source": [
        "simulated_si_tilt.calibration.center = None\npolar_si_tilt = simulated_si_tilt.get_azimuthal_integral2d(\n    npt=100, npt_azim=360, inplace=False, mean=True\n)\npolar_si_tilt.plot()"
      ]
    },
    {
      "cell_type": "code",
      "execution_count": null,
      "metadata": {
        "collapsed": false
      },
      "outputs": [],
      "source": [
        "# Building a Simulation\n# ---------------------\n# Now we can get make the orientation map.  In this case we have aligned the tilt axis with the z-axis\n# so we can use the :func:`orix.vector.Vector3d.from_euler` method to get the rotation axis.\n# As always ``with_direct_beam=False`` is important to make sure that the center\n# beam does not affect the orientation mapping.\n\n\nphase = si_phase()\ngenerator = SimulationGenerator(200)\nsim = generator.calculate_diffraction2d(\n    phase,\n    rotation=Rotation.from_euler(\n        [[0, 0, 0], [0, 0, 0]],\n        degrees=True,\n    ),\n    max_excitation_error=0.1,\n    reciprocal_radius=1.5,\n    with_direct_beam=False,\n)\n# Getting the Orientation\n# -----------------------\n# This should be fairly good at finding the orientation of the grains on each side of the tilt boundary.\n# The rotation is stored in the rotation column of the orientation map or .isg[2,0] if you want to use the\n# rotation as a navigator or plot it directly.\npolar_si_tilt = polar_si_tilt**0.5  # gamma correction\n\norientation_map = polar_si_tilt.get_orientation(sim)\norientation_map.plot_over_signal(simulated_si_tilt)"
      ]
    }
  ],
  "metadata": {
    "kernelspec": {
      "display_name": "Python 3",
      "language": "python",
      "name": "python3"
    },
    "language_info": {
      "codemirror_mode": {
        "name": "ipython",
        "version": 3
      },
      "file_extension": ".py",
      "mimetype": "text/x-python",
      "name": "python",
      "nbconvert_exporter": "python",
      "pygments_lexer": "ipython3",
      "version": "3.12.11"
    }
  },
  "nbformat": 4,
  "nbformat_minor": 0
}