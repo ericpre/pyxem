{
  "cells": [
    {
      "cell_type": "markdown",
      "metadata": {},
      "source": [
        "\n# Creating Interactive Virtual Images\n\nWe can create interactive virtual images by using the `interactive` method from hyperspy. Because\nthis requires that we recalculate the virtual images every time we change the ROIs it works best\nwith small datasets or datasets loaded completely into memory.\n\nYou can drag the ROI to update the virtual image if you use the ipympl or qt5 backends for plotting!\n"
      ]
    },
    {
      "cell_type": "code",
      "execution_count": null,
      "metadata": {
        "collapsed": false
      },
      "outputs": [],
      "source": [
        "import pyxem as pxm\nimport hyperspy.api as hs\n\ns = pxm.data.dummy_data.get_cbed_signal()\ncircle = hs.roi.CircleROI(cx=26, cy=74, r=5.5, r_inner=0)\ns.plot_integrated_intensity(circle)"
      ]
    },
    {
      "cell_type": "markdown",
      "metadata": {},
      "source": [
        "Also we can do the same with a 1D signal\n\n"
      ]
    },
    {
      "cell_type": "code",
      "execution_count": null,
      "metadata": {
        "collapsed": false
      },
      "outputs": [],
      "source": [
        "s = pxm.data.dummy_data.get_cbed_signal()\ns.calibration(center=None)\ns1d = s.get_azimuthal_integral1d(npt=100, mean=True)\nspan = hs.roi.SpanROI(left=15.5, right=20)\ns1d.plot_integrated_intensity(span)"
      ]
    }
  ],
  "metadata": {
    "kernelspec": {
      "display_name": "Python 3",
      "language": "python",
      "name": "python3"
    },
    "language_info": {
      "codemirror_mode": {
        "name": "ipython",
        "version": 3
      },
      "file_extension": ".py",
      "mimetype": "text/x-python",
      "name": "python",
      "nbconvert_exporter": "python",
      "pygments_lexer": "ipython3",
      "version": "3.12.11"
    }
  },
  "nbformat": 4,
  "nbformat_minor": 0
}