{
  "cells": [
    {
      "cell_type": "markdown",
      "metadata": {},
      "source": [
        "\n# Azimuthal Integration (in Pyxem!)\n\npyxem now includes built in azimuthal integration functionality. This is useful for\nextracting radial profiles from diffraction patterns in 1 or 2 dimensions.  The new method\nwill split the pixels into radial bins and then sum the intensity in each bin resulting in\na `Diffraction1D` or `Polar2D` signal.  In each case the total intensity of the diffraction\npattern is preserved.\n"
      ]
    },
    {
      "cell_type": "code",
      "execution_count": null,
      "metadata": {
        "collapsed": false
      },
      "outputs": [],
      "source": [
        "import pyxem as pxm\nimport hyperspy.api as hs\nimport numpy as np\n\ns = pxm.data.tilt_boundary_data()\ns.calibration(\n    center=None\n)  # set the center to None to use center of the diffraction patterns\ns.calibration.units = \"/AA^{-1}\"\ns.calibration.scale = 0.03  # To angstroms\ns1d = s.get_azimuthal_integral1d(npt=100, inplace=False)\n\ns1d.sum().plot()"
      ]
    },
    {
      "cell_type": "markdown",
      "metadata": {},
      "source": [
        "Aside: Actual Implementation\nHere we have plotted the polygon bins which we use to integrate.  For each\nbin, the pixel indicies contained are saved to an array along side the fraction\nof each pixel within the bin.  Then for each diffraction pattern the fraction of\neach pixel within the bin is mutiplied, then summed to \"integrate\" the intensity\nfor each radial bin.\n\n"
      ]
    },
    {
      "cell_type": "code",
      "execution_count": null,
      "metadata": {
        "collapsed": false
      },
      "outputs": [],
      "source": [
        "from pyxem.utils._azimuthal_integrations import _get_control_points\n\ncp = _get_control_points(\n    10, npt_azim=72, radial_range=(0.2, 4), azimuthal_range=(-np.pi, np.pi), affine=None\n)[:, :, ::-1]\npoly = hs.plot.markers.Polygons(verts=cp, edgecolor=\"w\", facecolor=\"none\")\ns.plot()\ns.add_marker(poly)"
      ]
    },
    {
      "cell_type": "markdown",
      "metadata": {},
      "source": [
        "Similarly, the `get_azimuthal_integral2d` method will return a `Polar2D` signal.\n\n"
      ]
    },
    {
      "cell_type": "code",
      "execution_count": null,
      "metadata": {
        "collapsed": false
      },
      "outputs": [],
      "source": [
        "s_polar = s.get_azimuthal_integral2d(npt=100, npt_azim=360, inplace=False)\ns_polar.sum().plot()"
      ]
    },
    {
      "cell_type": "markdown",
      "metadata": {},
      "source": [
        "There are also other things you can account for with azimuthal integration, such as the\neffects of the Ewald sphere.  This can be done by calibrating with a known detector distance,\nand beam energy. In most cases the Flat Ewald sphere assumption is good enough but occasionally,\nyou might want some additional Accuracy.\n\nHere we just show the effect of just calibrating with the first peak vs. calibrating\nwith the known beam energy and detector distance. For things like accurate template matching good\ncalibration can be important when matching to high diffraction vectors. The calibration example gives\nmore information on how to get the correct values for your microscope/setup.\n\nIf you are doing x-ray diffraction please raise an issue on the pyxem github to let us know! The same\nassumptions should apply for each case, but it would be good to test!\n\nWe only show the 1D case here, but the same applies for the 2D case as well!\n\n"
      ]
    },
    {
      "cell_type": "code",
      "execution_count": null,
      "metadata": {
        "collapsed": false
      },
      "outputs": [],
      "source": [
        "s.calibration.detector(\n    pixel_size=0.000092,\n    detector_distance=0.125,\n    beam_energy=200,\n    center=None,\n    units=\"k_A^-1\",\n)  # set the center= None to use the center of the diffraction patterns\ns1d_200 = s.get_azimuthal_integral1d(npt=100, inplace=False)\ns.calibration.detector(\n    pixel_size=0.000092,\n    detector_distance=0.075,\n    beam_energy=80,\n    center=None,\n    units=\"k_A^-1\",\n)  # These are just made up pixel sizes and detector distances for illustration\n\ns1d_80 = s.get_azimuthal_integral1d(npt=100, inplace=False)\n\nhs.plot.plot_spectra(\n    [s1d.sum(), s1d_200.sum(), s1d_80.sum()],\n    legend=[\"Flat Ewald Sphere Assumption\", \"200keV Corrected\", \"80keV Corrected\"],\n)"
      ]
    },
    {
      "cell_type": "markdown",
      "metadata": {},
      "source": [
        "At times you may want to use a mask to exclude certain pixels from the azimuthal integration or apply an affine\ntransformation to the diffraction patterns before azimuthal integration.  This can be done using the `mask` and\n`affine` parameters of the `Calibration` object.\n\nHere we just show a random affine transformation for illustration.\n\n"
      ]
    },
    {
      "cell_type": "code",
      "execution_count": null,
      "metadata": {
        "collapsed": false
      },
      "outputs": [],
      "source": [
        "mask = s.get_direct_beam_mask(radius=20)  # Mask the direct beam\naffine = np.array(\n    [[0.9, 0.1, 0], [0.1, 0.9, 0], [0, 0, 1]]\n)  # Just a random affine transformation for illustration\ns.calibration(mask=mask, affine=affine)\ns.get_azimuthal_integral2d(npt=100, npt_azim=360, inplace=False).sum().plot()"
      ]
    },
    {
      "cell_type": "markdown",
      "metadata": {},
      "source": [
        "The `azimuth_range`-argument lets you choose what angular range to calculate the azimuthal integral for.\nThe range can be increasing, decreasing, and does not need to be a multiple of pi.\n\n"
      ]
    },
    {
      "cell_type": "code",
      "execution_count": null,
      "metadata": {
        "collapsed": false
      },
      "outputs": [],
      "source": [
        "pol1 = s.get_azimuthal_integral2d(npt=100, azimuth_range=(-np.pi, np.pi))\n\npol2 = s.get_azimuthal_integral2d(npt=100, azimuth_range=(0, 1))\n\npol3 = s.get_azimuthal_integral2d(npt=100, npt_azim=720, azimuth_range=(0, 4 * np.pi))\n\npol4 = s.get_azimuthal_integral2d(npt=100, azimuth_range=(np.pi, 0))\n\nhs.plot.plot_images(\n    [pol1.sum(), pol2.sum(), pol3.sum(), pol4.sum()],\n    label=[\"(-pi, pi) default\", \"(0, 1)\", \"(0, 4pi)\", \"(pi, 0)\"],\n    cmap=\"viridis\",\n    tight_layout=True,\n    colorbar=None,\n)"
      ]
    }
  ],
  "metadata": {
    "kernelspec": {
      "display_name": "Python 3",
      "language": "python",
      "name": "python3"
    },
    "language_info": {
      "codemirror_mode": {
        "name": "ipython",
        "version": 3
      },
      "file_extension": ".py",
      "mimetype": "text/x-python",
      "name": "python",
      "nbconvert_exporter": "python",
      "pygments_lexer": "ipython3",
      "version": "3.12.11"
    }
  },
  "nbformat": 4,
  "nbformat_minor": 0
}