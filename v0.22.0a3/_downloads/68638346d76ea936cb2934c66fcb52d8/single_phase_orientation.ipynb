{
  "cells": [
    {
      "cell_type": "markdown",
      "metadata": {},
      "source": [
        "\n# Single Phase Orientation Mapping\nYou can also calculate the orientation of the grains in a single phase sample using the\n:meth:`pyxem.signals.PolarSignal2D.get_orientation` method. This requires that you\nsimulate the entire S2 space for the phase and then compare to the simulated diffraction.\n\nFor more information on the orientation mapping process see :cite:`pyxemorientationmapping2022`\n"
      ]
    },
    {
      "cell_type": "code",
      "execution_count": null,
      "metadata": {
        "collapsed": false
      },
      "outputs": [],
      "source": [
        "from pyxem.data import si_phase, si_grains\nfrom diffsims.generators.simulation_generator import SimulationGenerator\nfrom orix.sampling import get_sample_reduced_fundamental\n\nsimulated_si = si_grains()"
      ]
    },
    {
      "cell_type": "markdown",
      "metadata": {},
      "source": [
        "## Pre-Processing\nFirst we center the diffraction patterns and get a polar signal\nIncreasing the number of npt_azim with give better polar sampling\nbut will take longer to compute the orientation map\nThe mean=True argument will return the mean pixel value in each bin rather than the sum\nthis makes the high k values more visible\n\n"
      ]
    },
    {
      "cell_type": "code",
      "execution_count": null,
      "metadata": {
        "collapsed": false
      },
      "outputs": [],
      "source": [
        "simulated_si.calibration.center = None\npolar_si = simulated_si.get_azimuthal_integral2d(\n    npt=100, npt_azim=360, inplace=False, mean=True\n)\npolar_si.plot()"
      ]
    },
    {
      "cell_type": "markdown",
      "metadata": {},
      "source": [
        "## Building a Simulation\nNow we can get make a simulation. In this case we want to set a minimum_intensity which removes the low intensity reflections.\nwe also sample the S2 space using the :func`orix.sampling.get_sample_reduced_fundamental`.  Make sure that you set\n``with_direct_beam=False`` or the orientation mapping will be unduely affected by the center beam.\n\n"
      ]
    },
    {
      "cell_type": "code",
      "execution_count": null,
      "metadata": {
        "collapsed": false
      },
      "outputs": [],
      "source": [
        "phase = si_phase()\ngenerator = SimulationGenerator(200, minimum_intensity=0.05)\nrotations = get_sample_reduced_fundamental(resolution=1, point_group=phase.point_group)\nsim = generator.calculate_diffraction2d(\n    phase,\n    rotation=rotations,\n    max_excitation_error=0.1,\n    reciprocal_radius=2,\n    with_direct_beam=False,\n)  # Make sure that with_direct_beam ==False"
      ]
    },
    {
      "cell_type": "markdown",
      "metadata": {},
      "source": [
        "## Getting the Orientation\nBy default the `get_orientation` function uses a gamma correction equilivent to polar_si**0.5.  For noisy datasets\nit might be a good idea to reduce the noise (Maybe by averaging neighboring patterns?) or simple background subtraction,\notherwise the gamma correction will increase the effects of noise on the data. This tries to focus on  \"Is the Bragg vector\nthere?\" rather than \"Is the Bragg vector the right intensity?\" patially because the intensity of the Bragg vector might have\nmany different effects.\n\n"
      ]
    },
    {
      "cell_type": "code",
      "execution_count": null,
      "metadata": {
        "collapsed": false
      },
      "outputs": [],
      "source": [
        "polar_si = polar_si**0.5  # gamma correction.\norientation_map = polar_si.get_orientation(sim)\norientation_map.plot_over_signal(simulated_si, vmax=\"96th\")"
      ]
    },
    {
      "cell_type": "markdown",
      "metadata": {},
      "source": [
        "sphinx_gallery_thumbnail_number = 4\n\n"
      ]
    }
  ],
  "metadata": {
    "kernelspec": {
      "display_name": "Python 3",
      "language": "python",
      "name": "python3"
    },
    "language_info": {
      "codemirror_mode": {
        "name": "ipython",
        "version": 3
      },
      "file_extension": ".py",
      "mimetype": "text/x-python",
      "name": "python",
      "nbconvert_exporter": "python",
      "pygments_lexer": "ipython3",
      "version": "3.12.11"
    }
  },
  "nbformat": 4,
  "nbformat_minor": 0
}