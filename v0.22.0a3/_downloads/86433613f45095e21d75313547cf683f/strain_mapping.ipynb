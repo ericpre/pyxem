{
  "cells": [
    {
      "cell_type": "markdown",
      "metadata": {},
      "source": [
        "\n# Strain Mapping\n\nStrain mapping in pyxem is done by fitting a :class:`~.signals.tensor_field.DisplacementGradientMap` to the data.\nThis can be thought of as image distortion around some central point.\n"
      ]
    },
    {
      "cell_type": "code",
      "execution_count": null,
      "metadata": {
        "collapsed": false
      },
      "outputs": [],
      "source": [
        "from pyxem.data import simulated_strain\nimport hyperspy.api as hs"
      ]
    },
    {
      "cell_type": "markdown",
      "metadata": {},
      "source": [
        "In this example we will create a simulated strain map using the :meth:`~.data.simulated_strain` function.\nThis just creates a simulated diffraction pattern and applies a simple \"strain\" to it. In this\ncase using simulated data is slightly easier for demonstration purposes. If you want to use\nreal data the :meth:`~.data.zrnb_precipitate` dataset is a good example of strain from a precipitate.\n\n"
      ]
    },
    {
      "cell_type": "code",
      "execution_count": null,
      "metadata": {
        "collapsed": false
      },
      "outputs": [],
      "source": [
        "strained_signal = simulated_strain(\n    navigation_shape=(32, 32),\n    signal_shape=(512, 512),\n    disk_radius=20,\n    num_electrons=1e5,\n    strain_matrix=None,\n    lazy=True,\n)"
      ]
    },
    {
      "cell_type": "markdown",
      "metadata": {},
      "source": [
        "The first thing we want to do is to find peaks within the diffraction pattern. I'd recommend\nusing the :meth:`~.signals.diffraction2d.get_diffraction_vectors` method\n\n"
      ]
    },
    {
      "cell_type": "code",
      "execution_count": null,
      "metadata": {
        "collapsed": false
      },
      "outputs": [],
      "source": [
        "strained_signal.calibration.center = (\n    None  # First set the center to be (256, 256) or the center of the signal\n)\ntemplate_matched = strained_signal.template_match_disk(disk_r=20, subtract_min=False)\ntemplate_matched.plot(vmin=0.4)"
      ]
    },
    {
      "cell_type": "markdown",
      "metadata": {},
      "source": [
        "Plotting the template matched signal and setting ``vmin`` is a good way to see what threshold you\nshould use for the :meth:`~.signals.diffraction2d.get_diffraction_vectors` method.\n\n"
      ]
    },
    {
      "cell_type": "code",
      "execution_count": null,
      "metadata": {
        "collapsed": false
      },
      "outputs": [],
      "source": [
        "diffraction_vectors = template_matched.get_diffraction_vectors(\n    threshold_abs=0.4, min_distance=5\n)\n\nmarkers = diffraction_vectors.to_markers(color=\"w\", sizes=5, alpha=0.5)\nstrained_signal.plot()\nstrained_signal.add_marker(markers)"
      ]
    },
    {
      "cell_type": "markdown",
      "metadata": {},
      "source": [
        "## Determining the Strain\nWe can just use the first ring of the diffraction pattern to determine the strain. We can do this by\nusing the :meth:`~.signals.DiffractionVectors.filter_magnitude` method. You can also look at the\n`filtering vectors <_sphx_glr_examples_vectors_masking_vectors.py>` example to see\nhow to select which vectors you want to use more generally. You can also just manually input the un-strained\nvectors or use simulated/ rotated vectors as well.\n\n"
      ]
    },
    {
      "cell_type": "code",
      "execution_count": null,
      "metadata": {
        "collapsed": false
      },
      "outputs": [],
      "source": [
        "first_ring_vectors = diffraction_vectors.filter_magnitude(\n    min_magnitude=0.1,\n    max_magnitude=1,\n)\nunstrained_vectors = first_ring_vectors.inav[0, 0]\n\nstrain_maps = first_ring_vectors.get_strain_maps(\n    unstrained_vectors=unstrained_vectors, return_residuals=False\n)\n\nstrain_maps.plot()"
      ]
    },
    {
      "cell_type": "markdown",
      "metadata": {},
      "source": [
        "Some final notes about strain mapping. In general, you want to use as many pixels as possible. 512 x 512 is a good\nplace to start.  You can do strain mapping with fewer pixels, but the results will be less accurate. Precession\nalso helps improve the results as does having a thinner sample both of which reduce the effects of dynamical\ndiffraction.\n\n"
      ]
    },
    {
      "cell_type": "markdown",
      "metadata": {},
      "source": [
        "sphinx_gallery_thumbnail_number = 5\n\n"
      ]
    }
  ],
  "metadata": {
    "kernelspec": {
      "display_name": "Python 3",
      "language": "python",
      "name": "python3"
    },
    "language_info": {
      "codemirror_mode": {
        "name": "ipython",
        "version": 3
      },
      "file_extension": ".py",
      "mimetype": "text/x-python",
      "name": "python",
      "nbconvert_exporter": "python",
      "pygments_lexer": "ipython3",
      "version": "3.12.11"
    }
  },
  "nbformat": 4,
  "nbformat_minor": 0
}