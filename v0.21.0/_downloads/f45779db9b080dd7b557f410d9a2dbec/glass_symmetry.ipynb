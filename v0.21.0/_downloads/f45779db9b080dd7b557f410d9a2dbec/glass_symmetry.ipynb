{
  "cells": [
    {
      "cell_type": "markdown",
      "metadata": {},
      "source": [
        "\n# Glass Symmetry from Vectors\n\nThis example shows how to identify symmetry (in a glassy system but this could be useful other places)\nby looking at the angles between 3 vectors in the diffraction pattern at some radial ring in k to identify\ngroups of 3 vectors that are subtended by the same angle.\n\nThis is a very simple example with more detailed examples to come.\n"
      ]
    },
    {
      "cell_type": "code",
      "execution_count": null,
      "metadata": {
        "collapsed": false
      },
      "outputs": [],
      "source": [
        "import pyxem as pxm\nfrom scipy.ndimage import gaussian_filter\nimport matplotlib.pyplot as plt\nimport numpy as np"
      ]
    },
    {
      "cell_type": "markdown",
      "metadata": {},
      "source": [
        "First we load the data and do some basic processing\n\n"
      ]
    },
    {
      "cell_type": "code",
      "execution_count": null,
      "metadata": {
        "collapsed": false
      },
      "outputs": [],
      "source": [
        "s = pxm.data.pdnip_glass(allow_download=True)\ns.axes_manager.signal_axes[0].offset = -23.7\ns.axes_manager.signal_axes[1].offset = -19.3\n\ns.filter(gaussian_filter, sigma=(1, 1, 0, 0), inplace=True)  # only in real space\ns.template_match_disk(disk_r=5, subtract_min=False, inplace=True)\n\nvectors = s.get_diffraction_vectors(threshold_abs=0.5, min_distance=3)"
      ]
    },
    {
      "cell_type": "markdown",
      "metadata": {},
      "source": [
        "Now we can convert to polar vectors\n\n"
      ]
    },
    {
      "cell_type": "code",
      "execution_count": null,
      "metadata": {
        "collapsed": false
      },
      "outputs": [],
      "source": [
        "pol = vectors.to_polar()"
      ]
    },
    {
      "cell_type": "markdown",
      "metadata": {},
      "source": [
        "This function gets the inscribed angle\naccept_threshold is the maximum difference between the two angles subtended by the 3 vectors\n\n"
      ]
    },
    {
      "cell_type": "code",
      "execution_count": null,
      "metadata": {
        "collapsed": false
      },
      "outputs": [],
      "source": [
        "ins = pol.get_angles(min_angle=0.05, min_k=0.3, accept_threshold=0.1)\n\nflat_vect = ins.flatten_diffraction_vectors()\n\nfig, axs = plt.subplots()\naxs.hist(flat_vect.ivec[\"delta phi\"].data, bins=60, range=(0, 2 * np.pi / 3))\naxs.set_xlabel(\"delta phi\")\naxs.set_xticks(\n    [0, np.pi / 5, np.pi / 4, 2 * np.pi / 5, np.pi / 2, np.pi / 3, 3 * np.pi / 5]\n)\naxs.set_xticklabels(\n    [\n        0,\n        r\"$\\frac{\\pi}{5}$\",\n        r\"$\\frac{\\pi}{4}$\",\n        r\"$\\frac{2\\pi}{5}$\",\n        r\"$\\frac{\\pi}{2}$\",\n        r\"$\\frac{\\pi}{3}$\",\n        r\"$\\frac{3\\pi}{5}$\",\n    ]\n)"
      ]
    },
    {
      "cell_type": "markdown",
      "metadata": {},
      "source": [
        "cycle through colors in groups of 3 for each symmetry cluster\n\n"
      ]
    },
    {
      "cell_type": "code",
      "execution_count": null,
      "metadata": {
        "collapsed": false
      },
      "outputs": [],
      "source": [
        "points = ins.to_markers(\n    color=[\"b\", \"b\", \"b\", \"g\", \"g\", \"g\", \"y\", \"y\", \"y\", \"r\", \"r\", \"r\"]\n)\noriginal_points = vectors.to_markers(color=\"w\", alpha=0.5)\ns.axes_manager.indices = (67, 55)  # jumping to a part with some symmetric structure\n\ns.plot(vmin=0.0)\ns.add_marker(points)\ns.add_marker(original_points)"
      ]
    }
  ],
  "metadata": {
    "kernelspec": {
      "display_name": "Python 3",
      "language": "python",
      "name": "python3"
    },
    "language_info": {
      "codemirror_mode": {
        "name": "ipython",
        "version": 3
      },
      "file_extension": ".py",
      "mimetype": "text/x-python",
      "name": "python",
      "nbconvert_exporter": "python",
      "pygments_lexer": "ipython3",
      "version": "3.12.11"
    }
  },
  "nbformat": 4,
  "nbformat_minor": 0
}