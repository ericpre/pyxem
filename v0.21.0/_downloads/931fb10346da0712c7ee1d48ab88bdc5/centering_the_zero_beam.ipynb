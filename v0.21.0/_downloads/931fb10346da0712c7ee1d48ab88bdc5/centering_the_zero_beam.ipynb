{
  "cells": [
    {
      "cell_type": "markdown",
      "metadata": {},
      "source": [
        "\n# Centering the Zero Beam\n"
      ]
    },
    {
      "cell_type": "markdown",
      "metadata": {},
      "source": [
        "Making a Dummy Dataset with a Zero Beam that systematically deviates from the center\n\n"
      ]
    },
    {
      "cell_type": "code",
      "execution_count": null,
      "metadata": {
        "collapsed": false
      },
      "outputs": [],
      "source": [
        "import hyperspy.api as hs\nimport pyxem as pxm\n\ns = pxm.data.tilt_boundary_data(correct_pivot_point=False)"
      ]
    },
    {
      "cell_type": "markdown",
      "metadata": {},
      "source": [
        "## Getting the Position of the Zero beam\nThe zero beam position can be obtained using the :meth:`get_direct_beam_position` method.\n\n"
      ]
    },
    {
      "cell_type": "code",
      "execution_count": null,
      "metadata": {
        "collapsed": false
      },
      "outputs": [],
      "source": [
        "s_shifts = s.get_direct_beam_position(method=\"blur\", sigma=5, half_square_width=20)\ns_shifts.plot()"
      ]
    },
    {
      "cell_type": "markdown",
      "metadata": {},
      "source": [
        "## Visualize the Zero Beam Position\nTo visualize the zero beam position, we can plot the beam position on the original signal.\n\n"
      ]
    },
    {
      "cell_type": "code",
      "execution_count": null,
      "metadata": {
        "collapsed": false
      },
      "outputs": [],
      "source": [
        "s.plot(axes_ticks=True)\ns_shifts.plot_on_signal(s)"
      ]
    },
    {
      "cell_type": "markdown",
      "metadata": {},
      "source": [
        "## Getting a Linear Plane\nIn many instances the zero beam position will vary systematically with the scan position.\nThis can be corrected by fitting a linear plane to the zero beam position using the\n:meth:`get_linear_plane` method.\n\n"
      ]
    },
    {
      "cell_type": "code",
      "execution_count": null,
      "metadata": {
        "collapsed": false
      },
      "outputs": [],
      "source": [
        "s_linear_plane = s_shifts.get_linear_plane()\ns_linear_plane.plot()"
      ]
    },
    {
      "cell_type": "markdown",
      "metadata": {},
      "source": [
        "## Centering the Zero Beam\nThe zero beam can be centered using the :meth:`center_direct_beam` method.\nThen we sum all the diffraction patterns for the both the centered beam,\nand the non-centered one, to compare them.\n\n"
      ]
    },
    {
      "cell_type": "code",
      "execution_count": null,
      "metadata": {
        "collapsed": false
      },
      "outputs": [],
      "source": [
        "s_centered = s.center_direct_beam(shifts=s_linear_plane, inplace=False)\ns_pacbed_centered = s_centered.sum()\ns_pacbed = s.sum()\n\nhs.plot.plot_images([s_pacbed, s_pacbed_centered], label=[\"Original\", \"Centered\"])"
      ]
    },
    {
      "cell_type": "markdown",
      "metadata": {},
      "source": [
        "## Centering the Zero Beam with constant deflection magnitude\nIn the presence of electromagnetic fields in the entire sample area,\nthe plane fitting can fail. In this case, two separate effects can be observed:\n\n1. The zero beam position varies systematically with the scan position due to the effects of descan\n2. The zero beam will be deflected from electromagnetic fields in the sample\n\nAssuming that the effects of 1 are systematic and that the electromagnetic fields have\nconstant strengths, we can try to fit a plane to correct for effects of 1 by minimizing the\nmagnitude variance. You may need use a mask and/or have several electromagnetic\ndomains for good performance.\n\n"
      ]
    },
    {
      "cell_type": "code",
      "execution_count": null,
      "metadata": {
        "collapsed": false
      },
      "outputs": [],
      "source": [
        "s_probes = pxm.data.simulated_constant_shift_magnitude()\n\ns_shifts = s_probes.get_direct_beam_position(method=\"center_of_mass\")"
      ]
    },
    {
      "cell_type": "markdown",
      "metadata": {},
      "source": [
        "## Getting the Linear Plane\nWe call `get_linear_plane` with `constrain_magnitude_variance=True`. Then\nwe can center the direct beam as normal.\n\n"
      ]
    },
    {
      "cell_type": "code",
      "execution_count": null,
      "metadata": {
        "collapsed": false
      },
      "outputs": [],
      "source": [
        "s_shifts.plot(suptitle=\"Before Constrained Linear Plane Fit\")\ns_linear_plane = s_shifts.get_linear_plane(constrain_magnitude_variance=True)\ns_linear_plane.plot(suptitle=\"After Constrained Linear Plane Fit\")\n\ns_probes.center_direct_beam(shifts=s_linear_plane)"
      ]
    },
    {
      "cell_type": "markdown",
      "metadata": {},
      "source": [
        "## Getting the Electromagnetic Domains\nThe found electromagnetic domains can be visualized by subtracting the linear plane from the original shifts.\nThis is done by subtracting the linear plane determined from the constrained magnitude variance\nfrom the original shifts.\n\n"
      ]
    },
    {
      "cell_type": "code",
      "execution_count": null,
      "metadata": {
        "collapsed": false
      },
      "outputs": [],
      "source": [
        "s_shifts -= s_linear_plane\ns_shifts.get_magnitude_phase_signal().plot()\n\n# For more realistic data, the linear plane optimization algorithm can give poor results. In this case,\n# you can change the initial values for the optimization algorithm by using the `initial_values` parameter\n# in `get_linear_plane`. See the docstring for more information. Try varying this and see if the plane\n# changes significantly."
      ]
    }
  ],
  "metadata": {
    "kernelspec": {
      "display_name": "Python 3",
      "language": "python",
      "name": "python3"
    },
    "language_info": {
      "codemirror_mode": {
        "name": "ipython",
        "version": 3
      },
      "file_extension": ".py",
      "mimetype": "text/x-python",
      "name": "python",
      "nbconvert_exporter": "python",
      "pygments_lexer": "ipython3",
      "version": "3.12.11"
    }
  },
  "nbformat": 4,
  "nbformat_minor": 0
}