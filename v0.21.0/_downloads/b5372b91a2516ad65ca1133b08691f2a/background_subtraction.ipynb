{
  "cells": [
    {
      "cell_type": "markdown",
      "metadata": {},
      "source": [
        "\n# Background subtraction\n\nIf your diffraction data is noisy, you might want to subtract the background from the\ndataset. Pyxem offers some built-in functionality for this, with the\n`subtract_diffraction_background` class method. Custom filtering is also possible, an\nexample is shown in the 'Filtering Data'-example.\n"
      ]
    },
    {
      "cell_type": "code",
      "execution_count": null,
      "metadata": {
        "collapsed": false
      },
      "outputs": [],
      "source": [
        "import pyxem as pxm\nimport hyperspy.api as hs\n\ns = pxm.data.tilt_boundary_data()\n\ns_filtered = s.subtract_diffraction_background(\n    \"difference of gaussians\",\n    inplace=False,\n    min_sigma=3,\n    max_sigma=20,\n)\n\ns_filtered_h = s.subtract_diffraction_background(\"h-dome\", inplace=False, h=0.7)\n\n\nhs.plot.plot_images(\n    [s.inav[2, 2], s_filtered.inav[2, 2], s_filtered_h.inav[2, 2]],\n    label=[\"Original\", \"Difference of Gaussians\", \"H-Dome\"],\n    tight_layout=True,\n    norm=\"symlog\",\n    cmap=\"viridis\",\n    colorbar=None,\n)"
      ]
    },
    {
      "cell_type": "markdown",
      "metadata": {},
      "source": [
        "## Filtering Polar Images\nThe available methods differ for `Diffraction2D` datasets and `PolarDiffraction2D`\ndatasets.\n\nSet the center of the diffraction pattern to its default,\ni.e. the middle of the image\n\n"
      ]
    },
    {
      "cell_type": "code",
      "execution_count": null,
      "metadata": {
        "collapsed": false
      },
      "outputs": [],
      "source": [
        "s.calibration.center = None"
      ]
    },
    {
      "cell_type": "markdown",
      "metadata": {},
      "source": [
        "Transform to polar coordinates\n\n"
      ]
    },
    {
      "cell_type": "code",
      "execution_count": null,
      "metadata": {
        "collapsed": false
      },
      "outputs": [],
      "source": [
        "s_polar = s.get_azimuthal_integral2d(npt=100, mean=True)\n\ns_polar_filtered = s_polar.subtract_diffraction_background(\n    \"radial median\",\n    inplace=False,\n)\n\ns_polar_filtered2 = s_polar.subtract_diffraction_background(\n    \"radial percentile\",\n    percentile=70,\n    inplace=False,\n)\n\nhs.plot.plot_images(\n    [s_polar.inav[2, 2], s_polar_filtered.inav[2, 2], s_polar_filtered2.inav[2, 2]],\n    label=[\"Original (polar)\", \"Radial Median\", \"Radial Percentile\"],\n    tight_layout=True,\n    norm=\"symlog\",\n    cmap=\"viridis\",\n    colorbar=None,\n)"
      ]
    }
  ],
  "metadata": {
    "kernelspec": {
      "display_name": "Python 3",
      "language": "python",
      "name": "python3"
    },
    "language_info": {
      "codemirror_mode": {
        "name": "ipython",
        "version": 3
      },
      "file_extension": ".py",
      "mimetype": "text/x-python",
      "name": "python",
      "nbconvert_exporter": "python",
      "pygments_lexer": "ipython3",
      "version": "3.12.11"
    }
  },
  "nbformat": 4,
  "nbformat_minor": 0
}