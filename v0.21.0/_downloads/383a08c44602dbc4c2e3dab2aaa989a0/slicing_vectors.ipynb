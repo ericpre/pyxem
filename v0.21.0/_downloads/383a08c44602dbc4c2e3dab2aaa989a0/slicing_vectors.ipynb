{
  "cells": [
    {
      "cell_type": "markdown",
      "metadata": {},
      "source": [
        "\n# Operations on Vectors\n\nThis example shows how to perform some basic operations slicing and selecting vectors.\nThis is designed to be very flexible and powerful.  Many operations such as slicing with a\nboolean array are supported.\n\nAdditionally, lazy operations are supported and can be chained together. These are often faster\nthan their non-lazy counterparts as ``dask`` very effectively prunes the computation graph.\n"
      ]
    },
    {
      "cell_type": "code",
      "execution_count": null,
      "metadata": {
        "collapsed": false
      },
      "outputs": [],
      "source": [
        "import pyxem as pxm\nimport hyperspy.api as hs\n\nhs.set_log_level(\"ERROR\")\n\ns = pxm.data.tilt_boundary_data()\ntemp = s.template_match_disk(disk_r=5, subtract_min=False)\n\nvectors = s.get_diffraction_vectors(threshold_abs=0.4, min_distance=5)"
      ]
    },
    {
      "cell_type": "markdown",
      "metadata": {},
      "source": [
        "Plotting all the vectors\n\n"
      ]
    },
    {
      "cell_type": "code",
      "execution_count": null,
      "metadata": {
        "collapsed": false
      },
      "outputs": [],
      "source": [
        "s.plot()\nall_vectors = vectors.to_markers(color=\"red\", sizes=10, alpha=0.5)\ns.add_marker(all_vectors)"
      ]
    },
    {
      "cell_type": "code",
      "execution_count": null,
      "metadata": {
        "collapsed": false
      },
      "outputs": [],
      "source": [
        "slic_vectors = (vectors.ivec[:, vectors.ivec[0] < 10]).to_markers(\n    color=\"green\", sizes=5, alpha=0.5\n)\n\ns.plot()\ns.add_marker([all_vectors, slic_vectors])"
      ]
    },
    {
      "cell_type": "code",
      "execution_count": null,
      "metadata": {
        "collapsed": false
      },
      "outputs": [],
      "source": [
        "slic_vectors = (\n    vectors.ivec[:, (vectors.ivec[0] > 0) * (vectors.ivec[0] < 10)]\n).to_markers(color=\"w\", sizes=5, alpha=0.5)\ns.plot()\ns.add_marker([all_vectors, slic_vectors])"
      ]
    },
    {
      "cell_type": "code",
      "execution_count": null,
      "metadata": {
        "collapsed": false
      },
      "outputs": [],
      "source": [
        "vect_magnitudes = (vectors.ivec[0] ** 2 + vectors.ivec[1] ** 2) ** 0.5\nslic_vectors = vectors.ivec[:, vect_magnitudes < 20].to_markers(\n    color=\"w\", sizes=5, alpha=0.5\n)\ns.plot()\ns.add_marker([all_vectors, slic_vectors])\ns.add_marker([all_vectors, slic_vectors])"
      ]
    },
    {
      "cell_type": "code",
      "execution_count": null,
      "metadata": {
        "collapsed": false
      },
      "outputs": [],
      "source": [
        "slic_vectors = (vectors.ivec[:, vectors.ivec[\"intensity\"] < 0.5]).to_markers(\n    color=\"w\", sizes=5, alpha=0.5\n)\ns.plot()\ns.add_marker([all_vectors, slic_vectors])\ns.add_marker([all_vectors, slic_vectors])"
      ]
    },
    {
      "cell_type": "markdown",
      "metadata": {},
      "source": [
        "sphinx_gallery_thumbnail_number = 8\n\n"
      ]
    }
  ],
  "metadata": {
    "kernelspec": {
      "display_name": "Python 3",
      "language": "python",
      "name": "python3"
    },
    "language_info": {
      "codemirror_mode": {
        "name": "ipython",
        "version": 3
      },
      "file_extension": ".py",
      "mimetype": "text/x-python",
      "name": "python",
      "nbconvert_exporter": "python",
      "pygments_lexer": "ipython3",
      "version": "3.12.11"
    }
  },
  "nbformat": 4,
  "nbformat_minor": 0
}