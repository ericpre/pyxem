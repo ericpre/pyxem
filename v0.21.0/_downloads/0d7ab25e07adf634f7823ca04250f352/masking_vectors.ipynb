{
  "cells": [
    {
      "cell_type": "markdown",
      "metadata": {},
      "source": [
        "\n# Diffraction Vectors to Mask\n\nThis example shows how to take a set of vectors and create a mask\nfrom a set of circles around each vector. Multiplying by the original signal\nwill remove all the signal except for the circles around the vectors.\n"
      ]
    },
    {
      "cell_type": "code",
      "execution_count": null,
      "metadata": {
        "collapsed": false
      },
      "outputs": [],
      "source": [
        "import pyxem as pxm\nimport hyperspy.api as hs\n\ns = pxm.data.tilt_boundary_data()\ns.calibration.center = None\n\ns.axes_manager[2].scale = 0.3\ntemp = s.template_match_disk(disk_r=5, subtract_min=False)  # Just right\nvectors = temp.get_diffraction_vectors(threshold_abs=0.4, min_distance=5)\n\nmask = vectors.to_mask(disk_r=7)\nmasked_s = s * mask\nmasked_s.plot()"
      ]
    },
    {
      "cell_type": "markdown",
      "metadata": {},
      "source": [
        "## Selecting One Position\nWe can also just select one position and create a mask from that.\n\n"
      ]
    },
    {
      "cell_type": "code",
      "execution_count": null,
      "metadata": {
        "collapsed": false
      },
      "outputs": [],
      "source": [
        "masked_s = s * mask.inav[0, 0]\nmasked_s.plot()"
      ]
    },
    {
      "cell_type": "markdown",
      "metadata": {},
      "source": [
        "## Removing Vectors\nWe can also remove the vectors from the signal by inverting the mask\nand multiplying by the original signal.\n\n"
      ]
    },
    {
      "cell_type": "code",
      "execution_count": null,
      "metadata": {
        "collapsed": false
      },
      "outputs": [],
      "source": [
        "vectors_filtered = vectors.filter_magnitude(1, 15)\nmask = vectors_filtered.to_mask(disk_r=9)\nmasked_s = s * ~mask\nmasked_s.plot()"
      ]
    },
    {
      "cell_type": "markdown",
      "metadata": {},
      "source": [
        "sphinx_gallery_thumbnail_number = 6\n\n"
      ]
    }
  ],
  "metadata": {
    "kernelspec": {
      "display_name": "Python 3",
      "language": "python",
      "name": "python3"
    },
    "language_info": {
      "codemirror_mode": {
        "name": "ipython",
        "version": 3
      },
      "file_extension": ".py",
      "mimetype": "text/x-python",
      "name": "python",
      "nbconvert_exporter": "python",
      "pygments_lexer": "ipython3",
      "version": "3.12.11"
    }
  },
  "nbformat": 4,
  "nbformat_minor": 0
}