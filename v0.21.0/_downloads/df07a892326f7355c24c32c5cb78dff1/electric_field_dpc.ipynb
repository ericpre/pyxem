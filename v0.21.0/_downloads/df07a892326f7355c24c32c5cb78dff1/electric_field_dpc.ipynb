{
  "cells": [
    {
      "cell_type": "markdown",
      "metadata": {},
      "source": [
        "\n# Electric Field Mapping\n\nWhen we measure a change in the position of the electron beam on the camera, we are directly measuring\nthat the electron beam has been deflected from the optic axis. In other words, the momentum of the electron\nbeam in the xy plane has changed. Since electrons are charged particles, we can relate the electron\u2019s momentum\nchange to an electric field using the Lorentz force equation.\n\n\\begin{align}\\frac{dp}{dt} = qE + \\nu X B\\end{align}\n\nThis can be also expressed as:\n\n\\begin{align}\\frac{m_0 \\gamma | \\nu |^2 \\theta}{et} \\approx E_{xy}\\end{align}\n\nor solving for the electric field in the y (or x) direction:\n\n\\begin{align}\\frac{m_0 \\gamma | \\nu |^2 \\theta_y}{et} \\approx E_{y}\\end{align}\n\nWhere $m_0$ is the rest mass of the electron,\n$\\gamma$ is the Lorentz factor,\n$| \\nu |$ is the speed of the electron,\n$e$ is the elementary charge, and $t$ is the thickness of\nthe sample and $\\theta_y$ is the deflection angle in the y direction.\n\nSpecial thanks to Dr. Barnaby Levin for helping with the math and documentation for\nElectric Field Mapping.\n"
      ]
    },
    {
      "cell_type": "code",
      "execution_count": null,
      "metadata": {
        "collapsed": false
      },
      "outputs": [],
      "source": [
        "from pyxem.data import simulated_pn_junction\nimport matplotlib.pyplot as plt\nimport hyperspy.api as hs\n\ns = simulated_pn_junction()\ns.calibration.convert_signal_units(\"mrad\")\ncom = s.get_direct_beam_position(method=\"center_of_mass\")\ncal = com.pixels_to_calibrated_units()\necal = cal.calibrate_electric_shifts(thickness=60)\n\necal.plot()"
      ]
    },
    {
      "cell_type": "markdown",
      "metadata": {},
      "source": [
        "The shifts are new in units of mV/m, which is a common unit for electric fields.\nOne thing that is important is to make sure that the camera x and y axes are aligned with the\nscan x and y axes. If they are not, you can use the `rotate_beam_shifts` method to align them.\n\n"
      ]
    },
    {
      "cell_type": "code",
      "execution_count": null,
      "metadata": {
        "collapsed": false
      },
      "outputs": [],
      "source": [
        "rotated = ecal.rotate_beam_shifts(angle=45)  # Rotate the beam shifts by 45 degrees\nrotated.plot()"
      ]
    },
    {
      "cell_type": "markdown",
      "metadata": {},
      "source": [
        "# Finding a Profile\nNow we can make a nice profile of the electric field using a line profile. Let's make this interactive using\na hyperspy ROI widgets. This should work best with the ``qt`` backend, although the ``ipympl`` backend\nshould also work (hopefully). We could do this not interactively but this is a  fun example of how to use\nhyperspy's interactive tools.\n\n"
      ]
    },
    {
      "cell_type": "code",
      "execution_count": null,
      "metadata": {
        "collapsed": false
      },
      "outputs": [],
      "source": [
        "# %matplotlib qt\n\n\nfig = plt.figure(figsize=(10, 4))\ngs = fig.add_gridspec(7, 7)\nsub1 = fig.add_subfigure(gs[:, :3])\nsub2 = fig.add_subfigure(gs[1:3, 3:])\nsub3 = fig.add_subfigure(gs[4:6, 3:])\nrot_signal = rotated.get_magnitude_phase_signal(add_color_wheel_marker=False)\n\nrot_signal.metadata.General.title = \"Mag. + Phase\"\nline = hs.roi.Line2DROI(x1=5, y1=16, x2=27, y2=16, linewidth=10)\n\nE_x = line(rotated, axes=(0, 1)).isig[1].T\nE_y = line(rotated, axes=(0, 1)).isig[0].T\nE_x.set_signal_type(\"diffraction\")\nE_y.set_signal_type(\"diffraction\")\n\nE_x.metadata.General.title = \"$E_x$\"\nE_y.metadata.General.title = \"$E_y$\"\n\n\nE_x.axes_manager.signal_axes[0].name = \"$Distance$\"\nE_y.axes_manager.signal_axes[0].name = \"$Distance$\"\n\nrot_signal.plot(fig=sub1)\nE_x.plot(fig=sub2)\n\nE_y.plot(fig=sub3)\n\n\ndef get_profile(ind=0, out=None):\n    res = line(rotated, axes=(0, 1)).isig[ind].T\n    if out is not None:\n        out.data[:] = res.data\n        out.events.data_changed.trigger(obj=out)\n\n    else:\n        return res\n\n\n# Connect the slices\nfor i, s in enumerate([E_x, E_y]):\n    hs.interactive(\n        get_profile,\n        out=s,\n        event=line.events.changed,\n        recompute_out_event=line.events.changed,\n        ind=i,\n    )\n\nline.add_widget(rot_signal)"
      ]
    },
    {
      "cell_type": "markdown",
      "metadata": {},
      "source": [
        "sphinx_gallery_thumbnail_number = 5\n\n"
      ]
    }
  ],
  "metadata": {
    "kernelspec": {
      "display_name": "Python 3",
      "language": "python",
      "name": "python3"
    },
    "language_info": {
      "codemirror_mode": {
        "name": "ipython",
        "version": 3
      },
      "file_extension": ".py",
      "mimetype": "text/x-python",
      "name": "python",
      "nbconvert_exporter": "python",
      "pygments_lexer": "ipython3",
      "version": "3.12.11"
    }
  },
  "nbformat": 4,
  "nbformat_minor": 0
}