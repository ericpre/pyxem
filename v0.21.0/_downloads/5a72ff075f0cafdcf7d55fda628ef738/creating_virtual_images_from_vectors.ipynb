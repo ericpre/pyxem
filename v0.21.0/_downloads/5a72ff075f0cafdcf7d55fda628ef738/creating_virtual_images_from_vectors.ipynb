{
  "cells": [
    {
      "cell_type": "markdown",
      "metadata": {},
      "source": [
        "\n# Creating Virtual Images from Vectors\n\nIn this example we will show how to create virtual images from vectors.\nWe will use the `find_peaks` method to find the vectors and then use the\n`get_unique_vectors` method to reduce the number of vectors to a unique set of vectors.\n\nWe can convert the unique vectors to regions of interest (ROIs) objects using the `to_roi` method\nand then use the `get_virtual_image` method to create the virtual images.\n\nThis method is flexible and any type of ROI defined in hyperspy can be used to create virtual images.\n\nWe also included the include_labels argument to the `to_roi` method which will also return the labels\nfor each ROI for use plotting on the signal.\n"
      ]
    },
    {
      "cell_type": "code",
      "execution_count": null,
      "metadata": {
        "collapsed": false
      },
      "outputs": [],
      "source": [
        "import pyxem as pxm\n\nc = pxm.data.dummy_data.get_cbed_signal()\npks = c.template_match_disk(5, subtract_min=False).find_peaks(\n    interactive=False, threshold_abs=0.8, min_distance=6\n)\ndv = pxm.signals.DiffractionVectors.from_peaks(pks)\nvectors = dv.get_unique_vectors()\nroi, texts = vectors.to_roi(radius=5, include_labels=True, sizes=3, facecolor=\"black\")\n\nc.plot()\nfor r in roi:\n    r.add_widget(c, axes=(2, 3))\n\nvdfs = c.get_virtual_image(roi)\nc.add_marker(texts)"
      ]
    },
    {
      "cell_type": "code",
      "execution_count": null,
      "metadata": {
        "collapsed": false
      },
      "outputs": [],
      "source": [
        "vdfs.plot()"
      ]
    },
    {
      "cell_type": "markdown",
      "metadata": {},
      "source": [
        "sphinx_gallery_thumbnail_number = 2\n\n"
      ]
    }
  ],
  "metadata": {
    "kernelspec": {
      "display_name": "Python 3",
      "language": "python",
      "name": "python3"
    },
    "language_info": {
      "codemirror_mode": {
        "name": "ipython",
        "version": 3
      },
      "file_extension": ".py",
      "mimetype": "text/x-python",
      "name": "python",
      "nbconvert_exporter": "python",
      "pygments_lexer": "ipython3",
      "version": "3.12.11"
    }
  },
  "nbformat": 4,
  "nbformat_minor": 0
}