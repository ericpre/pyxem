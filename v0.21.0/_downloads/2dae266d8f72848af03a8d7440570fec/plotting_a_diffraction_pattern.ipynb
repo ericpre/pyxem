{
  "cells": [
    {
      "cell_type": "markdown",
      "metadata": {},
      "source": [
        "\n# Plotting a Diffraction Pattern\n\nThis is sometimes not as straightforward as it seems because you might have a zero\nbeam that is too bright and regions of the diffraction pattern that are too dark.\n"
      ]
    },
    {
      "cell_type": "code",
      "execution_count": null,
      "metadata": {
        "collapsed": false
      },
      "outputs": [],
      "source": [
        "from pyxem.data import fe_multi_phase_grains\n\nmulit_phase = fe_multi_phase_grains()"
      ]
    },
    {
      "cell_type": "markdown",
      "metadata": {},
      "source": [
        "We can plot easily using the `plot` method. This will show the diffraction pattern\nbut the plot is static and not interactive. Additionally, the zero beam is too bright\nand the high k values are too dark.\n\n"
      ]
    },
    {
      "cell_type": "code",
      "execution_count": null,
      "metadata": {
        "collapsed": false
      },
      "outputs": [],
      "source": [
        "mulit_phase.plot()"
      ]
    },
    {
      "cell_type": "markdown",
      "metadata": {},
      "source": [
        "Plotting the diffraction pattern with a logarithmic scale can help to see the high k values\nBut because most of the values are zero, the contrast is not great and is too stretched.\n\n"
      ]
    },
    {
      "cell_type": "code",
      "execution_count": null,
      "metadata": {
        "collapsed": false
      },
      "outputs": [],
      "source": [
        "mulit_phase.plot(norm=\"log\")"
      ]
    },
    {
      "cell_type": "markdown",
      "metadata": {},
      "source": [
        "You can also use the `symlog` norm to plot the diffraction pattern with a logarithmic scale\nbut with a linear scale around zero. This can be useful to see the zero beam and the high k values.\nadditionally you can visualize negative and positive values as well.\n\n"
      ]
    },
    {
      "cell_type": "code",
      "execution_count": null,
      "metadata": {
        "collapsed": false
      },
      "outputs": [],
      "source": [
        "mulit_phase.plot(norm=\"symlog\")"
      ]
    },
    {
      "cell_type": "markdown",
      "metadata": {},
      "source": [
        "We can also set vmin and vmax to control the contrast. This can be useful to see the high k values.\nA very useful feature is the ability to plot the diffraction pattern with vmax set to the 99th percentile.\nThis sets the maximum value to the 99th percentile of the data. In general this works better than setting\nnorm='log' if you have zero values in the diffraction pattern.\n\n"
      ]
    },
    {
      "cell_type": "code",
      "execution_count": null,
      "metadata": {
        "collapsed": false
      },
      "outputs": [],
      "source": [
        "mulit_phase.plot(vmax=\"99th\")"
      ]
    },
    {
      "cell_type": "markdown",
      "metadata": {},
      "source": [
        "We can also use a gamma correction to control and optimize the contrast.\n\n"
      ]
    },
    {
      "cell_type": "code",
      "execution_count": null,
      "metadata": {
        "collapsed": false
      },
      "outputs": [],
      "source": [
        "mulit_phase.plot(norm=\"power\", gamma=0.4)"
      ]
    },
    {
      "cell_type": "markdown",
      "metadata": {},
      "source": [
        "Note: that any of the plots are interactive if you add:\n%matplotlib ipympl or %matplotlib qt at the beginning of a Jupyter notebook cell.\n%matplotlib inline will make the plots static.\n\n"
      ]
    }
  ],
  "metadata": {
    "kernelspec": {
      "display_name": "Python 3",
      "language": "python",
      "name": "python3"
    },
    "language_info": {
      "codemirror_mode": {
        "name": "ipython",
        "version": 3
      },
      "file_extension": ".py",
      "mimetype": "text/x-python",
      "name": "python",
      "nbconvert_exporter": "python",
      "pygments_lexer": "ipython3",
      "version": "3.12.11"
    }
  },
  "nbformat": 4,
  "nbformat_minor": 0
}