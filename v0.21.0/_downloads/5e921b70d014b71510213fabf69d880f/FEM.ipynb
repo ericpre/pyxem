{
  "cells": [
    {
      "cell_type": "markdown",
      "metadata": {},
      "source": [
        "\n# Fluctuation Electron Microscopy\nThis example shows you how to perform a fluctuation electron microscopy (FEM) analysis.\n\nIn this example we will focus on calculating $V_\\Omega (k)$ which is defined as,\n\nEquation 1:\n\n\\begin{align}V_\\Omega (k) = \\frac{\\langle I{^2}(k) \\rangle{_r} - \\langle I(k)\\rangle_r^2}{\\langle I(k)\\rangle_r^2 } - \\frac{G}{\\langle I(k)\\rangle_r}\\end{align}\n\nwhere $I(k)$ is the diffracted electron intensity averaged over the polar angle at constant scattering\nvector magnitude k, $<>_r$ indicates averaging over probe positions, and G is the gain of the electron camera\nin counts per electron for counted or data from hybrid pixel detectors this value is 1 otherwise it will be some\nmean value. The first term is the definition of the variance, and the second term is a correction to\nthe variance for Poisson noise in the data.\n\n(There are several different possible variance signals. Here, we use the notation from\nDaulton, et al. Ultramicroscopy 110, 1279\u20131289 (2010), DOI: 10.1016/j.ultramic.2010.05.010.)\n"
      ]
    },
    {
      "cell_type": "code",
      "execution_count": null,
      "metadata": {
        "collapsed": false
      },
      "outputs": [],
      "source": [
        "import pyxem as pxm\nfrom pyxem.utils import determine_ellipse\nimport numpy as np\nimport hyperspy.api as hs\nfrom pyxem.utils._pixelated_stem_tools import _copy_axes_object_metadata\n\ns = pxm.data.zrcual_1(allow_download=True, signal_type=\"electron_diffraction\")\ns.plot()"
      ]
    },
    {
      "cell_type": "markdown",
      "metadata": {},
      "source": [
        "## Using Manual Ellipse Determination\nSometimes it is useful to force the ellipse to fit certain points.  For example, here we\ncan force the ellipse to fit the first ring by masking the zero beam.\n\n"
      ]
    },
    {
      "cell_type": "code",
      "execution_count": null,
      "metadata": {
        "collapsed": false
      },
      "outputs": [],
      "source": [
        "summed = s.sum()\n\ncenter, affine, params, pos = pxm.utils.ransac_ellipse_tools.determine_ellipse(\n    summed,\n    return_params=True,\n    num_points=500,\n    use_ransac=False,\n)\nel, in_points = pxm.utils.ransac_ellipse_tools.ellipse_to_markers(\n    ellipse_array=params,\n    points=pos,\n)\n\n# we don't account for scales/offsets yet\nsummed.axes_manager.signal_axes[0].scale = 1\nsummed.axes_manager.signal_axes[1].scale = 1\nsummed.axes_manager.signal_axes[1].offset = 0\nsummed.axes_manager.signal_axes[0].offset = 0"
      ]
    },
    {
      "cell_type": "markdown",
      "metadata": {},
      "source": [
        "## Checking\nLet's check to make sure that things are behaving.  We can first plot the ellipse over\nthe data and then take the azimuthal integral/sum.\nThat should end up a nice straight line\n\n"
      ]
    },
    {
      "cell_type": "code",
      "execution_count": null,
      "metadata": {
        "collapsed": false
      },
      "outputs": [],
      "source": [
        "summed.plot()\nsummed.add_marker(in_points, plot_marker=True)\nsummed.add_marker(el, plot_marker=True)\n\n\ns.calibration.center = center[::-1]  # reverse the center.\ns.calibration.affine = affine\naz = s.get_azimuthal_integral2d(npt=100).sum().isig[:, 2.0:8.0]\n\naz.sum().plot()"
      ]
    },
    {
      "cell_type": "markdown",
      "metadata": {},
      "source": [
        "## Getting the Variance\nThe :meth:`~.signals.diffraction2d.get_variance` function will calculate the variance using the affine correction\nand the center as described above. Restricting the radial range is also nice to remove\nthe effects of the high intensity at the top end. Adding a mask can also be helpful for\nreducing the effects of a beam stop. The ``gain`` parameter is number of detector units for 1 electron.\nIt's used for the Poisson noise correction. If the data are already calibrated in units of electron counts,\nuse a gain of 1.\n\n"
      ]
    },
    {
      "cell_type": "code",
      "execution_count": null,
      "metadata": {
        "collapsed": false
      },
      "outputs": [],
      "source": [
        "mask = summed < 10000\nmask.plot()\nvariance = s.get_variance(npt=50, gain=4.2, radial_range=(3.0, 5.75), mask=mask)\nvariance.axes_manager[0].units = \"$nm^{-1}$\"\nvariance.plot()"
      ]
    },
    {
      "cell_type": "markdown",
      "metadata": {},
      "source": [
        "## Getting a (Good) Variance\nIf the TEM sample varies in thickness by more than a few nm over the entire dataset,\nthickness-related differences in the diffracted intensity  will dominate structure-related\ndifferences and therefore dominate. This effect can be avoided by using the HAADF signal or\nthe high-angle scattering within the diffraction pattern to determine the local sample thickness,\ngrouping the diffraction patterns into bins of nearly constant thickness, and only computing $V_\\\\Omega (k)$\nfor data inside a single bin. The $V_\\\\Omega (k)$ from different thickness bins then can be averaged\ntogether. See Hwang and Voyles Microscopy and Microanalysis 17, 67\u201374 (2011), DOI: 10.1017/S1431927610094109\nand Li et al. Microscopy and Microanalysis 20, 1605\u20131618 (2014). DOI: 10.1017/s1431927614012756 for more details.\n\n"
      ]
    },
    {
      "cell_type": "code",
      "execution_count": null,
      "metadata": {
        "collapsed": false
      },
      "outputs": [],
      "source": [
        "# We have already saved the simultaneously-acquired HAADF image along side the dataset. We can see this here...\nhaadf = s.metadata.HAADF.intensity"
      ]
    },
    {
      "cell_type": "markdown",
      "metadata": {},
      "source": [
        "The HAADF signal for an amorphous material is linear in the thickness for typical TEM sample thicknesses.\nTo convert the HAADF digital counts to thickness (in e.g. nm), the slope and intercept of the linear\nrelationship must be known. The intercept is the black level of the HAADF detector in digital counts,\nwhich in this case is 26,265. The slope must be calibrated for each experiment from a measurement of\nthe HAADF intensity at a position of known sample thickness. In this case, the slope is 440.46 digital\ncounts / nm of sample thickness.\n\nTEM sample thickness for amorphous materials can be measured independently either using electron energy\nloss spectroscopy (EELS), in which the inelastic mean free path of the material must be known, or using total\nelastic scattering, in which case the elastic mean free path of the material must be known. A reasonable model\nfor the elastic mean free path for many inorganic materials may be found\nin Zhang et al. Ultramicroscopy 171, 89\u201395 (2016), DOI: 10.1016/j.ultramic.2016.09.005.\n\n"
      ]
    },
    {
      "cell_type": "code",
      "execution_count": null,
      "metadata": {
        "collapsed": false
      },
      "outputs": [],
      "source": [
        "thickness = (haadf - 26265) / 440.46\n\n\ndef thickness_filter(signal, thickness, bins):\n    masks = [\n        np.logical_and(bins[i] < thickness, bins[i + 1] > thickness)\n        for i in range(len(bins) - 1)\n    ]\n    filtered = [hs.signals.Signal2D(signal.data[m.data, :, :]) for m in masks]\n    for f in filtered:\n        f.set_signal_type(\"electron_diffraction\")\n        _copy_axes_object_metadata(\n            signal.axes_manager.signal_axes[0], f.axes_manager.signal_axes[0]\n        )\n        _copy_axes_object_metadata(\n            signal.axes_manager.signal_axes[1], f.axes_manager.signal_axes[1]\n        )\n        f.metadata.add_dictionary(signal.metadata.as_dictionary())\n    return filtered, thickness\n\n\nbins = np.linspace(\n    np.min(thickness, axis=(0, 1)), np.max(thickness, axis=(0, 1)), num=2 + 1\n)\nfiltered, thickness = thickness_filter(s, thickness, bins)\nvar = [\n    f.get_variance(npt=50, gain=4.2, radial_range=(3.0, 5.7), mask=mask)\n    for f in filtered\n]\n\n# Note that the y-axis is the variance here. Hyperspy just always labels this as \"Intensity\"\nfor v in var:\n    v.axes_manager[0].units = \"$nm^{-1}$\"\nhs.plot.plot_spectra(var, legend=[\"thickness<17.5nm\", \"thickness<18.5nm\"])"
      ]
    }
  ],
  "metadata": {
    "kernelspec": {
      "display_name": "Python 3",
      "language": "python",
      "name": "python3"
    },
    "language_info": {
      "codemirror_mode": {
        "name": "ipython",
        "version": 3
      },
      "file_extension": ".py",
      "mimetype": "text/x-python",
      "name": "python",
      "nbconvert_exporter": "python",
      "pygments_lexer": "ipython3",
      "version": "3.12.11"
    }
  },
  "nbformat": 4,
  "nbformat_minor": 0
}