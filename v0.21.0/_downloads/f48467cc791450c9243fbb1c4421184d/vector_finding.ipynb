{
  "cells": [
    {
      "cell_type": "markdown",
      "metadata": {},
      "source": [
        "\n# Finding Diffraction Vectors\n"
      ]
    },
    {
      "cell_type": "markdown",
      "metadata": {},
      "source": [
        "This example shows how to find the diffraction vectors for a given\nsignal and then plot them using hyperspy's markers.\n\n"
      ]
    },
    {
      "cell_type": "code",
      "execution_count": null,
      "metadata": {
        "collapsed": false
      },
      "outputs": [],
      "source": [
        "import pyxem as pxm\nimport hyperspy.api as hs\n\ns = pxm.data.tilt_boundary_data()"
      ]
    },
    {
      "cell_type": "code",
      "execution_count": null,
      "metadata": {
        "collapsed": false
      },
      "outputs": [],
      "source": [
        "s.find_peaks(interactive=True)  # find the peaks using the interactive peak finder"
      ]
    },
    {
      "cell_type": "code",
      "execution_count": null,
      "metadata": {
        "collapsed": false
      },
      "outputs": [],
      "source": [
        "\"\"\"\nTemplate Matching\n=================\n\nThe best method for finding peaks is usually through template matching.  In this case a disk with\nsome radius is used as the template.  The radius of the disk should be chosen to be the same size\nas the diffraction spots.  The template matching is done using the :meth:`template_match_disk` method.\n\nThis can also be done lazy, including the plotting of the markers!\n\"\"\"\ns.axes_manager[2].scale = 0.3\n\n\ntemp_small = s.template_match_disk(disk_r=3, subtract_min=False)  # Too small\ntemp = s.template_match_disk(disk_r=5, subtract_min=False)  # Just right\ntemp_large = s.template_match_disk(disk_r=7, subtract_min=False)  # Too large\nind = (5, 5)\nhs.plot.plot_images(\n    [temp_small.inav[ind], temp.inav[ind], temp_large.inav[ind]],\n    label=[\"Too Small\", \"Just Right\", \"Too Large\"],\n)\n\nvectors = temp.get_diffraction_vectors(threshold_abs=0.4, min_distance=5)"
      ]
    },
    {
      "cell_type": "markdown",
      "metadata": {},
      "source": [
        "# Plotting Peaks\nWe can plot the peaks using hyperSpy's markers and DiffractionVectors.\n\n"
      ]
    },
    {
      "cell_type": "code",
      "execution_count": null,
      "metadata": {
        "collapsed": false
      },
      "outputs": [],
      "source": [
        "s.plot()\ns.add_marker(vectors.to_markers(color=\"red\", sizes=10, alpha=0.5))"
      ]
    },
    {
      "cell_type": "markdown",
      "metadata": {},
      "source": [
        "# Subpixel Peak Fitting\n\nThe template matching is done on the pixel grid.  To find the peak position more accurately the correlation\ncan be up-sampled using the :func:`pyxem.signals.DiffractionVectors.subpixel_refine` method.  This method takes a\n`DiffractionSignal2D` object and uses that to refine the peak positions.\n\nThis only really works up to up-sampling of 2-4. There is little improvement with increased up-sampling while\nit greatly increases the computation time.\n\n"
      ]
    },
    {
      "cell_type": "code",
      "execution_count": null,
      "metadata": {
        "collapsed": false
      },
      "outputs": [],
      "source": [
        "refined_peaks_com = vectors.subpixel_refine(s, \"center-of-mass\", square_size=20)\nrefined_peaks_xc = vectors.subpixel_refine(\n    s, \"cross-correlation\", square_size=20, upsample_factor=2, disk_r=5\n)\n\nmarkers2 = refined_peaks_com.to_markers(color=\"blue\", sizes=10, alpha=0.25)\nmarkers3 = refined_peaks_xc.to_markers(color=\"green\", sizes=10, alpha=0.25)\n\n\ns.plot()\ns.add_marker(vectors.to_markers(color=\"red\", sizes=10, alpha=0.25))\ns.add_marker(markers2)\ns.add_marker(markers3)"
      ]
    },
    {
      "cell_type": "code",
      "execution_count": null,
      "metadata": {
        "collapsed": false
      },
      "outputs": [],
      "source": [
        "# sphinx_gallery_thumbnail_number = 3"
      ]
    }
  ],
  "metadata": {
    "kernelspec": {
      "display_name": "Python 3",
      "language": "python",
      "name": "python3"
    },
    "language_info": {
      "codemirror_mode": {
        "name": "ipython",
        "version": 3
      },
      "file_extension": ".py",
      "mimetype": "text/x-python",
      "name": "python",
      "nbconvert_exporter": "python",
      "pygments_lexer": "ipython3",
      "version": "3.12.11"
    }
  },
  "nbformat": 4,
  "nbformat_minor": 0
}